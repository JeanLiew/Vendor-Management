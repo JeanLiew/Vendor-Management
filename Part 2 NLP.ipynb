{
 "cells": [
  {
   "cell_type": "markdown",
   "id": "0ea5b439-0b7a-4543-ad8f-971d63e97499",
   "metadata": {},
   "source": [
    "# Qanvast, Interior Design Vendor Management System - Part 2"
   ]
  },
  {
   "cell_type": "markdown",
   "id": "42cdbcc4-26a2-4f6e-9299-d2a48d00f77c",
   "metadata": {},
   "source": [
    "# Notebook Brief"
   ]
  },
  {
   "cell_type": "markdown",
   "id": "caf676bd-729d-4232-b389-84a2afbe6a4e",
   "metadata": {},
   "source": [
    "This notebook contains the reviews extraction and text analysis for topic modelling. "
   ]
  },
  {
   "cell_type": "markdown",
   "id": "250a80f5-bad1-4bf2-a49e-eb281bbb26f7",
   "metadata": {},
   "source": [
    "## 1.0 Data Imports"
   ]
  },
  {
   "cell_type": "code",
   "execution_count": 3,
   "id": "d43ce89b-9425-4eb0-bd81-7c88b80e8103",
   "metadata": {},
   "outputs": [],
   "source": [
    "import numpy as np\n",
    "import pandas as pd\n",
    "import matplotlib.pyplot as plt\n",
    "import seaborn as sns\n",
    "\n",
    "import spacy \n",
    "import en_core_web_sm\n",
    "    \n",
    "from spacy.matcher import Matcher\n",
    "from spacy.tokens import span, token\n",
    "\n",
    "from nltk import bigrams"
   ]
  },
  {
   "cell_type": "code",
   "execution_count": 4,
   "id": "c4f10cf4-63cc-49ac-b96d-bf58ff420266",
   "metadata": {},
   "outputs": [],
   "source": [
    "nlp = en_core_web_sm.load()"
   ]
  },
  {
   "cell_type": "code",
   "execution_count": 5,
   "id": "b007da0c-56d0-4518-87f8-697c1f80b03d",
   "metadata": {},
   "outputs": [],
   "source": [
    "#import data \n",
    "qvst = pd.read_csv('./data/cleaned_qvst.csv')"
   ]
  },
  {
   "cell_type": "code",
   "execution_count": 6,
   "id": "519d03c1-d4f2-41dc-814d-e933d9d0b418",
   "metadata": {},
   "outputs": [
    {
     "data": {
      "text/html": [
       "<div>\n",
       "<style scoped>\n",
       "    .dataframe tbody tr th:only-of-type {\n",
       "        vertical-align: middle;\n",
       "    }\n",
       "\n",
       "    .dataframe tbody tr th {\n",
       "        vertical-align: top;\n",
       "    }\n",
       "\n",
       "    .dataframe thead th {\n",
       "        text-align: right;\n",
       "    }\n",
       "</style>\n",
       "<table border=\"1\" class=\"dataframe\">\n",
       "  <thead>\n",
       "    <tr style=\"text-align: right;\">\n",
       "      <th></th>\n",
       "      <th>projectCompletionDate</th>\n",
       "      <th>projectCost</th>\n",
       "      <th>country</th>\n",
       "      <th>designRating</th>\n",
       "      <th>workmanshipRating</th>\n",
       "      <th>professionalismRating</th>\n",
       "      <th>projectManagementRating</th>\n",
       "      <th>createdAt</th>\n",
       "      <th>averageRating</th>\n",
       "      <th>company</th>\n",
       "      <th>total_reviews</th>\n",
       "      <th>reviews</th>\n",
       "      <th>word_count</th>\n",
       "    </tr>\n",
       "  </thead>\n",
       "  <tbody>\n",
       "    <tr>\n",
       "      <th>0</th>\n",
       "      <td>2021-07-31 16:00:00+00:00</td>\n",
       "      <td>0.0</td>\n",
       "      <td>SG</td>\n",
       "      <td>5</td>\n",
       "      <td>5</td>\n",
       "      <td>5</td>\n",
       "      <td>5</td>\n",
       "      <td>2021-05-31 13:44:41.680000+00:00</td>\n",
       "      <td>5.0</td>\n",
       "      <td>TodzTerior</td>\n",
       "      <td>18</td>\n",
       "      <td>Review of Thomas from Todz'Terior I'm thankful...</td>\n",
       "      <td>92</td>\n",
       "    </tr>\n",
       "  </tbody>\n",
       "</table>\n",
       "</div>"
      ],
      "text/plain": [
       "       projectCompletionDate  projectCost country  designRating  \\\n",
       "0  2021-07-31 16:00:00+00:00          0.0      SG             5   \n",
       "\n",
       "   workmanshipRating  professionalismRating  projectManagementRating  \\\n",
       "0                  5                      5                        5   \n",
       "\n",
       "                          createdAt  averageRating     company  total_reviews  \\\n",
       "0  2021-05-31 13:44:41.680000+00:00            5.0  TodzTerior             18   \n",
       "\n",
       "                                             reviews  word_count  \n",
       "0  Review of Thomas from Todz'Terior I'm thankful...          92  "
      ]
     },
     "execution_count": 6,
     "metadata": {},
     "output_type": "execute_result"
    }
   ],
   "source": [
    "qvst.head(1)"
   ]
  },
  {
   "cell_type": "markdown",
   "id": "6cd83469-cd54-43f1-8a9f-5025bfbcdea9",
   "metadata": {},
   "source": [
    "## 2.0 Data Cleaning and Processing"
   ]
  },
  {
   "cell_type": "code",
   "execution_count": 7,
   "id": "34ff4fdd-ece5-4d4c-9bca-83b7c2906be4",
   "metadata": {},
   "outputs": [
    {
     "name": "stdout",
     "output_type": "stream",
     "text": [
      "{'from', 'cannot', 'off', 'until', 'least', 'what', 'too', 'always', 'four', 'will', \"n't\", 'often', 'noone', 'on', 'unless', 'all', 'their', 'it', 'alone', 'get', 'formerly', 'much', 'nothing', 'upon', 'whence', 'next', 'because', 'whom', 'whither', 'only', 'any', 'put', 'thence', 'into', 'we', 'however', 'meanwhile', 'become', 'am', 'front', 'already', 'they', 'well', 'afterwards', \"'d\", 'if', 'he', 'empty', 'interior', 'give', 'that', 'sometimes', 'although', '‘m', 'twelve', '’ve', 'before', 'her', 'more', 'seem', 'used', 'therefore', 'really', 'against', 'may', 'yourselves', 'everything', 'forty', 'together', 'across', 'where', 'your', 'herself', 'again', 'neither', 'than', 'above', 'even', 'elsewhere', 'still', 'take', '‘ve', 'less', 'ten', 'has', 'same', 'why', 'whereafter', 'being', 'one', 'his', 'with', 'whereas', 'should', 'latter', 'between', 'i', 'while', 'n‘t', 'anyway', 'complete', 'through', 'somewhere', 'beyond', 'the', 'throughout', 'him', 'former', 'behind', 'three', 'seeming', 'when', 'ourselves', 'thru', 'been', 'she', 'whatever', 'hereby', 'towards', 'besides', 'becomes', 'them', 'keep', 'hundred', 'n’t', 'wherever', 'below', 'how', 'seemed', 'would', 'ours', 'regarding', 'each', 'top', 'such', 'back', '‘d', 'see', '’ll', 'toward', 'who', 'as', 'some', 'had', 'name', 'mostly', 'anywhere', \"'re\", 'moreover', 'mine', 'various', 'hence', 'down', 'none', 'others', 'nine', 'up', 'herein', 'something', 'eight', 'whereupon', 'nor', 'serious', 'please', 'did', 'hereafter', 'under', 'nevertheless', 'once', 'very', 'anyone', 'nowhere', 'several', 'thereby', 'do', 'either', 'amongst', 'wherein', 'enough', 'thereafter', 'during', 'here', 'thereupon', 'few', 'ca', 'designer', 'go', 'just', 'hereupon', 'amount', 'themselves', 'our', 'since', 'via', 'in', 'beforehand', 'call', 'there', 'must', '‘ll', 'out', '‘re', 'over', 'whose', 'no', 'so', 'yourself', 'both', 'not', 'say', 'everywhere', 'and', 'does', 'show', 'fifteen', 'review', 'six', 'somehow', 'might', 'anything', 'rather', 'now', 'full', 'project', 'but', 'want', 'twenty', 'us', 'after', 'have', 'hers', 're', 'beside', 'indeed', 'many', 'you', 'home', \"'ve\", 'yet', 'another', \"'s\", 'himself', 'most', 'are', 'these', '’s', 'first', 'then', 'around', \"'m\", 'ID', 'else', 'can', 'this', 'about', 'without', '’m', 'also', \"'ll\", 'itself', 'done', 'doing', 'or', 'which', 'seems', 'side', 'anyhow', 'me', 'within', 'namely', 'were', 'whoever', 'by', 'along', 'almost', 'further', 'quite', 'yours', 'using', 'onto', 'make', '’d', 'whole', 'recommending', 'thus', 'own', 'part', 'is', 'whether', 'at', 'therein', 'due', 'its', 'sometime', 'fifty', 'eleven', 'move', 'whenever', 'my', 'five', 'never', 'recommend', 'renovation', 'to', 'third', 'last', '‘s', 'every', 'ever', 'except', 'an', 'among', 'though', 'could', 'became', 'otherwise', 'for', 'a', 'myself', '’re', 'sixty', 'becoming', 'those', 'whereby', 'was', 'nobody', 'of', 'be', 'someone', 'everyone', 'made', 'latterly', 'two', 'perhaps', 'other', 'bottom', 'per', 'house'}\n"
     ]
    }
   ],
   "source": [
    "stop_words=spacy.lang.en.stop_words.STOP_WORDS\n",
    "nlp.Defaults.stop_words |= {\"recommend\",\"recommending\",\"review\", \"renovation\", \"project\", \"interior\", \"designer\", \"ID\", \"home\", \"house\", \"complete\",\"want\"}\n",
    "print(nlp.Defaults.stop_words)"
   ]
  },
  {
   "cell_type": "code",
   "execution_count": 8,
   "id": "8feab58c-f5b0-4504-9c5f-a235b2cfea5e",
   "metadata": {},
   "outputs": [],
   "source": [
    "def clean_text(text):\n",
    "    ''' \n",
    "    Cleans basic text to remove \\n\n",
    "    \n",
    "    '''\n",
    "    # get rid of newlines\n",
    "    text = text.strip().replace(\"\\n\", \" \").replace(\"\\r\", \" \")\n",
    "    return text\n",
    "\n",
    "def preprocess(text):\n",
    "    ''' \n",
    "       Input: Text \n",
    "       Output: Tokenized, removed stop words and whitespaces token in list\n",
    "    \n",
    "    '''\n",
    "    text = clean_text(text)\n",
    "   \n",
    "    #process nlp\n",
    "    doc = nlp(text)\n",
    "    \n",
    "    # Create list of word tokens\n",
    "    person = [ent.text for ent in doc.ents if ent.label_ == 'PERSON']\n",
    "    token_list = []\n",
    "    for token in doc:\n",
    "        if not token.ent_type:\n",
    "            token_list.append(token.lemma_)\n",
    "            \n",
    "#    ngrams\n",
    "    for chunk in doc.noun_chunks:\n",
    "        if not person:\n",
    "            token_list.append(chunk.text)\n",
    "    \n",
    "        \n",
    "    # Create list of word tokens after removing stopwords and punctuation\n",
    "    filtered_sentence =[] \n",
    "    for word in token_list:\n",
    "        lexeme = nlp.vocab[word]\n",
    "        if (lexeme.is_stop == False) & (lexeme.is_punct == False) & (lexeme.text.isspace() == False) & (lexeme != 'ID'):\n",
    "            filtered_sentence.append(word) \n",
    "            print('\\rWaiting... {} index remaining... '.format(np.random.random()), end='.')\n",
    "\n",
    "    return filtered_sentence"
   ]
  },
  {
   "cell_type": "code",
   "execution_count": 9,
   "id": "ad0a52b0-134b-49bd-bc78-b0438802df2c",
   "metadata": {},
   "outputs": [
    {
     "name": "stdout",
     "output_type": "stream",
     "text": [
      "GREAT WORK -JIN LING, PROJECT GURU Prior to engaging Jin Ling from Project Guru, we went to a few other ID firms however, in the end we decided on Jin Ling was the one for us because we feel that she’s may be able to deliver what we are looking for within our budget. She never disappoint.\n",
      "\n",
      "Throughout the whole renovations period, work was done systematically to the timeline drafted by her. Right from the beginning, Jin Ling suggested to have a whatapps group so that we can always discuss issues and be on the same page. We often get updates with photos + videos of our house from Jin Ling. She responded to every question and concern that we have. During renovations, small hiccups here and there is normal but Jin Ling was quick to rectify issues that surfaced (attached examples of before & after rectified work). \n",
      "\n",
      "Overall, the whole renovation was a breeze and enjoyable. Great work done and we really appreciate seeing our dream home from 3D drawing coming to life. Moving forward, I see myself recommending Jin Ling to my friends and family. \n",
      "\n",
      "Photos speaks a thousands words. Attached photos are excellent work from Jin Ling. Great job and keep going ~\n",
      "\n",
      "\n",
      "Waiting... 0.0193530710733264 index remaining... .['great', 'WORK', '-JIN', 'ling', 'GURU', 'prior', 'engage', '-PRON-', 'firm', 'end', '-PRON-', 'decide', '-PRON-', '-PRON-', 'feel', '-PRON-', 'able', 'deliver', '-PRON-', 'look', '-PRON-', 'budget', '-PRON-', 'disappoint', 'period', 'work', 'systematically', 'timeline', 'draft', '-PRON-', 'right', 'beginning', 'suggest', 'whatapps', 'group', '-PRON-', 'discuss', 'issue', 'page', '-PRON-', 'update', 'photo', '+', 'video', '-PRON-', '-PRON-', 'respond', 'question', 'concern', '-PRON-', 'small', 'hiccup', 'normal', 'quick', 'rectify', 'issue', 'surface', 'attach', 'example', 'rectified', 'work', 'overall', 'breeze', 'enjoyable', 'great', 'work', '-PRON-', 'appreciate', '-PRON-', 'dream', '3d', 'draw', 'come', 'life', 'forward', '-PRON-', '-PRON-', '-PRON-', 'friend', 'family', 'Photos', 'speak', 'word', 'attached', 'photo', 'excellent', 'work', 'great', 'job', '~']\n"
     ]
    }
   ],
   "source": [
    "#sample row 3 for testing\n",
    "doc_sample = qvst.reviews[3]\n",
    "    \n",
    "print(doc_sample)\n",
    "print('\\n')\n",
    "print(preprocess(doc_sample))  \n"
   ]
  },
  {
   "cell_type": "code",
   "execution_count": 10,
   "id": "fbefe9d4-6f13-4671-8a26-4ab380b277a3",
   "metadata": {},
   "outputs": [
    {
     "name": "stdout",
     "output_type": "stream",
     "text": [
      "Waiting... 0.5847267030012817 index remaining... ......................................................."
     ]
    }
   ],
   "source": [
    "processed_doc = qvst.reviews.map(preprocess)"
   ]
  },
  {
   "cell_type": "code",
   "execution_count": 11,
   "id": "d36a940e-32d8-485f-b4ed-99fd3ae080fe",
   "metadata": {},
   "outputs": [
    {
     "data": {
      "text/plain": [
       "0       [Todz'Terior, -PRON-, thankful, provide, compr...\n",
       "1       [beautiful, thank, MSS, big, thank, -PRON-, Re...\n",
       "2       [attention, detail, stress, free, experience, ...\n",
       "3       [great, WORK, -JIN, ling, GURU, prior, engage,...\n",
       "4       [average, id, firm, meet, friendly, able, prop...\n",
       "                              ...                        \n",
       "8610    [wife, friend, previously, engage, -PRON-, -PR...\n",
       "8611    [Kenn, reason, -PRON-, decide, engage, renovat...\n",
       "8612    [-PRON-, problem, -PRON-, previous, -PRON-, gl...\n",
       "8613    [-PRON-, good, experience, work, -PRON-, good,...\n",
       "8614    [-PRON-, friend, acquaintance, -PRON-, decide,...\n",
       "Name: reviews, Length: 8615, dtype: object"
      ]
     },
     "execution_count": 11,
     "metadata": {},
     "output_type": "execute_result"
    }
   ],
   "source": [
    "processed_doc"
   ]
  },
  {
   "cell_type": "code",
   "execution_count": 12,
   "id": "5ccafd82-33cd-4f6e-8a08-3d3ef9e9fcc9",
   "metadata": {},
   "outputs": [],
   "source": [
    "import pickle \n",
    "pickle.dump(processed_doc, open('./processed_doc.data', 'wb'))"
   ]
  },
  {
   "cell_type": "markdown",
   "id": "e4f82427-cc0c-453b-aaf4-e706a0bc2307",
   "metadata": {},
   "source": [
    "## Topic Modelling "
   ]
  },
  {
   "cell_type": "code",
   "execution_count": 13,
   "id": "945b3bac-eccd-4272-adb1-b92dc325d9f9",
   "metadata": {},
   "outputs": [],
   "source": [
    "#import processed data\n",
    "\n",
    "import pickle\n",
    "processed_doc = pickle.load(open('./processed_doc.data', 'rb'))"
   ]
  },
  {
   "cell_type": "code",
   "execution_count": 14,
   "id": "d49f8d45-47d3-4566-81f6-ff5adca1c216",
   "metadata": {},
   "outputs": [],
   "source": [
    "import gensim\n",
    "from gensim.utils import simple_preprocess\n",
    "from gensim.parsing.preprocessing import STOPWORDS\n",
    "from gensim import corpora, models\n",
    "from gensim.models.phrases import Phrases, Phraser\n",
    "\n",
    "from gensim.models import CoherenceModel"
   ]
  },
  {
   "cell_type": "code",
   "execution_count": 15,
   "id": "1be8bff5-2b21-4e41-b840-f5b8a7f06f8d",
   "metadata": {},
   "outputs": [
    {
     "name": "stdout",
     "output_type": "stream",
     "text": [
      "0 -PRON-\n",
      "1 Todz'Terior\n",
      "2 advice\n",
      "3 approachable\n",
      "4 comprehensive\n",
      "5 dealing\n",
      "6 discount\n",
      "7 ensure\n",
      "8 free\n",
      "9 friendly\n",
      "10 include\n"
     ]
    }
   ],
   "source": [
    "#Number of times a word appear in training set\n",
    "#dict to map word to unique ID\n",
    "dictionary = gensim.corpora.Dictionary(processed_doc)\n",
    "\n",
    "#sample dict\n",
    "count = 0 \n",
    "for k, v in dictionary.iteritems():\n",
    "    print(k,v)\n",
    "    count+=1\n",
    "    if count > 10:\n",
    "        break"
   ]
  },
  {
   "cell_type": "code",
   "execution_count": 16,
   "id": "d3a864e8-59f1-473a-a68f-5482188847a6",
   "metadata": {},
   "outputs": [],
   "source": [
    "#filter token that appear less than 20 docs, or more than 0.25 doc, keep only 100,000 most frequent token\n",
    "dictionary.filter_extremes(no_below=20, no_above=0.25, keep_n=100000)"
   ]
  },
  {
   "cell_type": "code",
   "execution_count": 17,
   "id": "b8ed6e4c-53bc-454c-90d3-c3ddc64adc4c",
   "metadata": {},
   "outputs": [],
   "source": [
    "#each doc, dictionary indicating how many words and time it appears\n",
    "#corpus \n",
    "bow_corpus = [dictionary.doc2bow(doc) for doc in processed_doc]"
   ]
  },
  {
   "cell_type": "code",
   "execution_count": 18,
   "id": "64044e90-f927-46c8-85fc-a9998cc37b9c",
   "metadata": {},
   "outputs": [
    {
     "name": "stdout",
     "output_type": "stream",
     "text": [
      "Word 0 (\"advice\") appears 1 time.\n",
      "Word 15 (\"quick\") appears 2 time.\n",
      "Word 40 (\"certain\") appears 1 time.\n",
      "Word 43 (\"come\") appears 2 time.\n",
      "Word 48 (\"consult\") appears 2 time.\n",
      "Word 59 (\"end\") appears 1 time.\n",
      "Word 61 (\"excellent\") appears 1 time.\n",
      "Word 62 (\"expectation\") appears 1 time.\n",
      "Word 69 (\"firm\") appears 1 time.\n",
      "Word 72 (\"great\") appears 1 time.\n",
      "Word 73 (\"handover\") appears 1 time.\n",
      "Word 77 (\"highly\") appears 1 time.\n",
      "Word 82 (\"initial\") appears 1 time.\n",
      "Word 93 (\"manpower\") appears 1 time.\n",
      "Word 101 (\"notice\") appears 1 time.\n",
      "Word 107 (\"point\") appears 1 time.\n",
      "Word 109 (\"quality\") appears 1 time.\n",
      "Word 116 (\"sense\") appears 1 time.\n",
      "Word 135 (\"workmanship\") appears 1 time.\n",
      "Word 137 (\"attention\") appears 1 time.\n",
      "Word 140 (\"check\") appears 1 time.\n",
      "Word 143 (\"detail\") appears 2 time.\n",
      "Word 144 (\"incorporate\") appears 1 time.\n",
      "Word 146 (\"money\") appears 1 time.\n",
      "Word 147 (\"owner\") appears 2 time.\n",
      "Word 156 (\"appreciate\") appears 1 time.\n",
      "Word 159 (\"breeze\") appears 1 time.\n",
      "Word 162 (\"deliver\") appears 1 time.\n",
      "Word 166 (\"draw\") appears 1 time.\n",
      "Word 175 (\"look\") appears 2 time.\n",
      "Word 180 (\"photo\") appears 1 time.\n",
      "Word 184 (\"right\") appears 1 time.\n",
      "Word 189 (\"timeline\") appears 1 time.\n",
      "Word 190 (\"update\") appears 1 time.\n",
      "Word 223 (\"contact\") appears 1 time.\n",
      "Word 224 (\"designing\") appears 1 time.\n",
      "Word 231 (\"smooth\") appears 1 time.\n",
      "Word 235 (\"carpenter\") appears 1 time.\n",
      "Word 245 (\"installation\") appears 1 time.\n",
      "Word 247 (\"little\") appears 1 time.\n",
      "Word 250 (\"pandemic\") appears 1 time.\n",
      "Word 251 (\"proceed\") appears 1 time.\n",
      "Word 252 (\"request\") appears 1 time.\n",
      "Word 255 (\"situation\") appears 1 time.\n",
      "Word 291 (\"opinion\") appears 1 time.\n",
      "Word 303 (\"product\") appears 1 time.\n",
      "Word 317 (\"wife\") appears 1 time.\n",
      "Word 323 (\"concept\") appears 1 time.\n",
      "Word 324 (\"easy\") appears 1 time.\n",
      "Word 331 (\"special\") appears 1 time.\n",
      "Word 333 (\"approach\") appears 1 time.\n",
      "Word 334 (\"despite\") appears 1 time.\n",
      "Word 345 (\"consider\") appears 1 time.\n",
      "Word 351 (\"journey\") appears 2 time.\n",
      "Word 353 (\"management\") appears 1 time.\n",
      "Word 363 (\"IDs\") appears 1 time.\n",
      "Word 364 (\"act\") appears 1 time.\n",
      "Word 365 (\"aside\") appears 1 time.\n",
      "Word 366 (\"assign\") appears 1 time.\n",
      "Word 367 (\"capture\") appears 1 time.\n",
      "Word 368 (\"catch\") appears 1 time.\n",
      "Word 369 (\"choice\") appears 1 time.\n",
      "Word 370 (\"commence\") appears 1 time.\n",
      "Word 371 (\"comparison\") appears 2 time.\n",
      "Word 372 (\"conceptualize\") appears 1 time.\n",
      "Word 373 (\"constantly\") appears 1 time.\n",
      "Word 374 (\"covid-19\") appears 1 time.\n",
      "Word 375 (\"current\") appears 1 time.\n",
      "Word 376 (\"decision\") appears 1 time.\n",
      "Word 377 (\"defect\") appears 1 time.\n",
      "Word 378 (\"demand\") appears 1 time.\n",
      "Word 379 (\"embark\") appears 1 time.\n",
      "Word 380 (\"expect\") appears 2 time.\n",
      "Word 381 (\"extensive\") appears 1 time.\n",
      "Word 382 (\"eye\") appears 2 time.\n",
      "Word 383 (\"factor\") appears 1 time.\n",
      "Word 384 (\"fully\") appears 1 time.\n",
      "Word 385 (\"hacking\") appears 1 time.\n",
      "Word 386 (\"importantly\") appears 1 time.\n",
      "Word 387 (\"impressive\") appears 1 time.\n",
      "Word 388 (\"involve\") appears 1 time.\n",
      "Word 389 (\"key\") appears 1 time.\n",
      "Word 390 (\"liaise\") appears 1 time.\n",
      "Word 391 (\"medium\") appears 1 time.\n",
      "Word 392 (\"meticulous\") appears 1 time.\n",
      "Word 393 (\"new\") appears 2 time.\n",
      "Word 394 (\"notch\") appears 1 time.\n",
      "Word 395 (\"outstanding\") appears 1 time.\n",
      "Word 396 (\"particular\") appears 1 time.\n",
      "Word 397 (\"practical\") appears 1 time.\n",
      "Word 398 (\"practicality\") appears 1 time.\n",
      "Word 399 (\"proactive\") appears 1 time.\n",
      "Word 400 (\"progress\") appears 1 time.\n",
      "Word 401 (\"rendering\") appears 1 time.\n",
      "Word 402 (\"shout\") appears 1 time.\n",
      "Word 403 (\"social\") appears 1 time.\n",
      "Word 404 (\"specific\") appears 1 time.\n",
      "Word 405 (\"start\") appears 1 time.\n",
      "Word 406 (\"step\") appears 1 time.\n",
      "Word 407 (\"support\") appears 1 time.\n",
      "Word 408 (\"value\") appears 1 time.\n",
      "Word 409 (\"vendor\") appears 1 time.\n",
      "Word 410 (\"wall\") appears 1 time.\n"
     ]
    }
   ],
   "source": [
    "#sample corpus on  index 10 \n",
    "bow_doc_11 = bow_corpus[11]\n",
    "for i in range(len(bow_doc_11)):\n",
    "    \n",
    "    print(f\"Word {bow_doc_11[i][0]} (\\\"{dictionary[bow_doc_11[i][0]]}\\\") appears {bow_doc_11[i][1]} time.\")"
   ]
  },
  {
   "cell_type": "code",
   "execution_count": 19,
   "id": "3d5c7d9f-7e4d-40f2-ab56-5ebbd451bba1",
   "metadata": {},
   "outputs": [
    {
     "name": "stdout",
     "output_type": "stream",
     "text": [
      "Topic 0 \n",
      " Words: 0.011*\"come\" + 0.010*\"friend\" + 0.009*\"thing\" + 0.009*\"issue\" + 0.008*\"cost\" + 0.008*\"decide\" + 0.007*\"look\" + 0.007*\"great\" + 0.007*\"workmanship\" + 0.007*\"know\"\n",
      "Topic 1 \n",
      " Words: 0.009*\"come\" + 0.008*\"feel\" + 0.008*\"provide\" + 0.008*\"friend\" + 0.007*\"decide\" + 0.007*\"request\" + 0.007*\"thing\" + 0.007*\"look\" + 0.007*\"issue\" + 0.007*\"change\"\n",
      "Topic 2 \n",
      " Words: 0.010*\"team\" + 0.010*\"great\" + 0.009*\"look\" + 0.008*\"job\" + 0.008*\"friend\" + 0.008*\"provide\" + 0.007*\"workmanship\" + 0.007*\"quality\" + 0.006*\"come\" + 0.006*\"update\"\n"
     ]
    }
   ],
   "source": [
    "#lda instantitate 3 topics\n",
    "lda_model = gensim.models.LdaMulticore(bow_corpus, num_topics=3, id2word=dictionary, passes=2, workers=2, minimum_probability=0.0)\n",
    "\n",
    "for idx, topic in lda_model.print_topics(-1):\n",
    "    print(f'Topic {idx} \\n Words: {topic}')"
   ]
  },
  {
   "cell_type": "code",
   "execution_count": 20,
   "id": "7890a590-3ed8-41aa-a5a2-b1577efe3e27",
   "metadata": {},
   "outputs": [
    {
     "name": "stdout",
     "output_type": "stream",
     "text": [
      "\n",
      "Score: 0.9020271897315979\t \n",
      "Topic: 0.009*\"come\" + 0.008*\"feel\" + 0.008*\"provide\" + 0.008*\"friend\" + 0.007*\"decide\"\n",
      "\n",
      "Score: 0.077826127409935\t \n",
      "Topic: 0.010*\"team\" + 0.010*\"great\" + 0.009*\"look\" + 0.008*\"job\" + 0.008*\"friend\"\n",
      "\n",
      "Score: 0.020146677270531654\t \n",
      "Topic: 0.011*\"come\" + 0.010*\"friend\" + 0.009*\"thing\" + 0.009*\"issue\" + 0.008*\"cost\"\n"
     ]
    }
   ],
   "source": [
    "#sample output\n",
    "for index, score in sorted(lda_model[bow_corpus[5]], key=lambda tup: -1*tup[1]):\n",
    "    print(f\"\\nScore: {score}\\t \\nTopic: {lda_model.print_topic(index, 5)}\")"
   ]
  },
  {
   "cell_type": "code",
   "execution_count": 76,
   "id": "7713eb8c-e641-497e-8bb0-b6b341d765db",
   "metadata": {},
   "outputs": [
    {
     "data": {
      "image/png": "[encoded data removed]",
      "text/plain": [
       "<Figure size 1080x1440 with 3 Axes>"
      ]
     },
     "metadata": {
      "needs_background": "light"
     },
     "output_type": "display_data"
    }
   ],
   "source": [
    "#### import wordcloud\n",
    "from wordcloud import WordCloud\n",
    "import matplotlib.colors as mcolors\n",
    "\n",
    "cols = [color for name, color in mcolors.TABLEAU_COLORS.items()]  # more colors: 'mcolors.XKCD_COLORS'\n",
    "\n",
    "cloud = WordCloud(background_color='white',\n",
    "                  width=2500,\n",
    "                  height=1800,\n",
    "                  max_words=10,\n",
    "                  colormap='tab10',\n",
    "                  color_func=lambda *args, **kwargs: cols[i],\n",
    "                  prefer_horizontal=1.0)\n",
    "\n",
    "topics = lda_model.show_topics(formatted=False)\n",
    "\n",
    "fig, axes = plt.subplots(1, 3, figsize=(15,20))\n",
    "axes = axes.ravel()\n",
    "\n",
    "for i, ax in enumerate(axes.flatten()):\n",
    "    if i>=4:\n",
    "        break\n",
    "    fig.add_subplot(ax)\n",
    "    topic_words = dict(topics[i][1])\n",
    "    cloud.generate_from_frequencies(topic_words, max_font_size=300)\n",
    "    plt.gca().imshow(cloud)\n",
    "    plt.gca().set_title('Topic ' + str(i), fontdict=dict(size=16))\n",
    "    plt.gca().axis('off')\n",
    "\n",
    "plt.subplots_adjust(wspace=0, hspace=0)\n",
    "plt.axis('off')\n",
    "plt.margins(x=0, y=0)\n",
    "plt.tight_layout(h_pad=-30)\n",
    "plt.show()"
   ]
  },
  {
   "cell_type": "markdown",
   "id": "af31f80e-bf5a-40b7-9ba7-eb6d88097981",
   "metadata": {},
   "source": [
    "Total 3 topics are identifiied with general outline on the following. \n",
    "\n",
    "1. Topic 0: Professionality and Quality \n",
    "2. Topic 1: Workmanship Design \n",
    "3. Topic 2: Cost , Budget\n"
   ]
  },
  {
   "cell_type": "markdown",
   "id": "45d528d2-7a10-4983-b39d-0061671ff374",
   "metadata": {},
   "source": [
    "### 2.1 Topic to Dataframe"
   ]
  },
  {
   "cell_type": "code",
   "execution_count": 36,
   "id": "8d271036-470e-4725-a9f7-cef2fc4728d9",
   "metadata": {},
   "outputs": [],
   "source": [
    "all_topics = lda_model .get_document_topics(bow_corpus, minimum_probability=0.0)\n",
    "all_topics_csr = gensim.matutils.corpus2csc(all_topics)\n",
    "all_topics_numpy = all_topics_csr.T.toarray()\n",
    "all_topics_df = pd.DataFrame(all_topics_numpy)"
   ]
  },
  {
   "cell_type": "code",
   "execution_count": 37,
   "id": "bf6ee567-c17d-48d4-9db1-36034170d5bd",
   "metadata": {},
   "outputs": [
    {
     "data": {
      "text/html": [
       "<div>\n",
       "<style scoped>\n",
       "    .dataframe tbody tr th:only-of-type {\n",
       "        vertical-align: middle;\n",
       "    }\n",
       "\n",
       "    .dataframe tbody tr th {\n",
       "        vertical-align: top;\n",
       "    }\n",
       "\n",
       "    .dataframe thead th {\n",
       "        text-align: right;\n",
       "    }\n",
       "</style>\n",
       "<table border=\"1\" class=\"dataframe\">\n",
       "  <thead>\n",
       "    <tr style=\"text-align: right;\">\n",
       "      <th></th>\n",
       "      <th>0</th>\n",
       "      <th>1</th>\n",
       "      <th>2</th>\n",
       "    </tr>\n",
       "  </thead>\n",
       "  <tbody>\n",
       "    <tr>\n",
       "      <th>0</th>\n",
       "      <td>0.013336</td>\n",
       "      <td>0.972596</td>\n",
       "      <td>0.014068</td>\n",
       "    </tr>\n",
       "    <tr>\n",
       "      <th>1</th>\n",
       "      <td>0.002476</td>\n",
       "      <td>0.462133</td>\n",
       "      <td>0.535392</td>\n",
       "    </tr>\n",
       "    <tr>\n",
       "      <th>2</th>\n",
       "      <td>0.010772</td>\n",
       "      <td>0.011317</td>\n",
       "      <td>0.977911</td>\n",
       "    </tr>\n",
       "    <tr>\n",
       "      <th>3</th>\n",
       "      <td>0.167661</td>\n",
       "      <td>0.264882</td>\n",
       "      <td>0.567456</td>\n",
       "    </tr>\n",
       "    <tr>\n",
       "      <th>4</th>\n",
       "      <td>0.511346</td>\n",
       "      <td>0.007193</td>\n",
       "      <td>0.481461</td>\n",
       "    </tr>\n",
       "    <tr>\n",
       "      <th>5</th>\n",
       "      <td>0.020147</td>\n",
       "      <td>0.919930</td>\n",
       "      <td>0.059923</td>\n",
       "    </tr>\n",
       "    <tr>\n",
       "      <th>6</th>\n",
       "      <td>0.695599</td>\n",
       "      <td>0.008184</td>\n",
       "      <td>0.296217</td>\n",
       "    </tr>\n",
       "    <tr>\n",
       "      <th>7</th>\n",
       "      <td>0.176348</td>\n",
       "      <td>0.625379</td>\n",
       "      <td>0.198273</td>\n",
       "    </tr>\n",
       "    <tr>\n",
       "      <th>8</th>\n",
       "      <td>0.012199</td>\n",
       "      <td>0.975039</td>\n",
       "      <td>0.012762</td>\n",
       "    </tr>\n",
       "    <tr>\n",
       "      <th>9</th>\n",
       "      <td>0.810567</td>\n",
       "      <td>0.023076</td>\n",
       "      <td>0.166357</td>\n",
       "    </tr>\n",
       "  </tbody>\n",
       "</table>\n",
       "</div>"
      ],
      "text/plain": [
       "          0         1         2\n",
       "0  0.013336  0.972596  0.014068\n",
       "1  0.002476  0.462133  0.535392\n",
       "2  0.010772  0.011317  0.977911\n",
       "3  0.167661  0.264882  0.567456\n",
       "4  0.511346  0.007193  0.481461\n",
       "5  0.020147  0.919930  0.059923\n",
       "6  0.695599  0.008184  0.296217\n",
       "7  0.176348  0.625379  0.198273\n",
       "8  0.012199  0.975039  0.012762\n",
       "9  0.810567  0.023076  0.166357"
      ]
     },
     "execution_count": 37,
     "metadata": {},
     "output_type": "execute_result"
    }
   ],
   "source": [
    "all_topics_df.head(10)"
   ]
  },
  {
   "cell_type": "code",
   "execution_count": 38,
   "id": "7e957200-4ed2-4335-bc97-93b9a2fedb55",
   "metadata": {},
   "outputs": [],
   "source": [
    "#select max prob topic\n",
    "all_topics_df['topic'] = all_topics_df.idxmax(axis=1)\n",
    "\n",
    "#extract val with highest proba\n",
    "all_topics_df['topic_proba'] = np.max(all_topics_df[[0,1,2]], axis=1)"
   ]
  },
  {
   "cell_type": "code",
   "execution_count": 45,
   "id": "7e87d7ee-9f9a-43f3-9b2c-50d03b10106b",
   "metadata": {},
   "outputs": [],
   "source": [
    "qvst['topics'] = all_topics_df.topic"
   ]
  },
  {
   "cell_type": "markdown",
   "id": "5882dc41-a0b2-48cf-ae69-b205f9894e93",
   "metadata": {},
   "source": [
    "## 3.0 Export Model"
   ]
  },
  {
   "cell_type": "code",
   "execution_count": 29,
   "id": "2c4b3483-a7c5-4bbf-b54b-52a6b8f55274",
   "metadata": {},
   "outputs": [],
   "source": [
    "#export best model\n",
    "pickle.dump(lda_model, open('./ldamodel_doc.pkl', 'wb'))"
   ]
  },
  {
   "cell_type": "markdown",
   "id": "5976175b-6ac4-4657-9f3b-6331fe6126cc",
   "metadata": {},
   "source": [
    "More exploratory on the text sentiment in the next notebook."
   ]
  }
 ],
 "metadata": {
  "kernelspec": {
   "display_name": "Python 3",
   "language": "python",
   "name": "python3"
  },
  "language_info": {
   "codemirror_mode": {
    "name": "ipython",
    "version": 3
   },
   "file_extension": ".py",
   "mimetype": "text/x-python",
   "name": "python",
   "nbconvert_exporter": "python",
   "pygments_lexer": "ipython3",
   "version": "3.8.5"
  }
 },
 "nbformat": 4,
 "nbformat_minor": 5
}
