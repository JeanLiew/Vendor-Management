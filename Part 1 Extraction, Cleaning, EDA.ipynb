{
 "cells": [
  {
   "cell_type": "markdown",
   "id": "9971894f-bb9b-4bd4-83ce-9ec6dbcfefdd",
   "metadata": {},
   "source": [
    "# Qanvast, Interior Design Vendor Management System"
   ]
  },
  {
   "cell_type": "markdown",
   "id": "d111425b-6e5c-4b7c-9554-de7e8be9f876",
   "metadata": {},
   "source": [
    "This personal project appeals to identify the top vendors and user sentiment across Interior Design (ID) Company in Singapore. Qanvast is a renovation platform for user to seek inspiration and get matched with vendor locally in Singapore based on the budget requirement and attain several vendor quotations for user review prior to engagement. \n",
    "\n",
    "Using Natural Language Processing to identify the sentiment and ratings across listed vendors and identify room for improvement, otherwise interference may be required to retain a pool of high-quality approved vendor list. "
   ]
  },
  {
   "cell_type": "markdown",
   "id": "d4323c1a-2fbd-43fd-8fcc-de005d00bb5c",
   "metadata": {},
   "source": [
    "# Notebook Brief"
   ]
  },
  {
   "cell_type": "markdown",
   "id": "c4f2c5fb-1c8a-44ca-871f-81b706507111",
   "metadata": {},
   "source": [
    "This notebook contains the data extraction, cleaning and basic exploratory on the data features. Preprocessing on reviews and text will be in upcoming notebook.\n",
    "\n",
    "Note: If you have yet to see the next notebook, it is in progress at the moment. "
   ]
  },
  {
   "cell_type": "markdown",
   "id": "6a9d7340-fc6b-4165-bb3f-d2ad6fd9933a",
   "metadata": {},
   "source": [
    "## 1.0 Data Extraction"
   ]
  },
  {
   "cell_type": "markdown",
   "id": "7baf9192-f2c6-4f46-bc92-8d2b1d299202",
   "metadata": {},
   "source": [
    "Data is extracted from Qanvast website as follow. All private information are removed prior to any processing to protect user identity and information."
   ]
  },
  {
   "cell_type": "code",
   "execution_count": 3,
   "id": "temporal-lottery",
   "metadata": {},
   "outputs": [],
   "source": [
    "import requests\n",
    "import time\n",
    "import random\n",
    "import numpy as np\n",
    "import pandas as pd\n",
    "import matplotlib.pyplot as plt\n",
    "import seaborn as sns\n",
    "\n",
    "pd.set_option('display.max_columns', 100)"
   ]
  },
  {
   "cell_type": "markdown",
   "id": "8c07b557-f2ed-4664-9615-2ec5e89cd415",
   "metadata": {},
   "source": [
    "Below function is commented after scrapping to avoid repeat data extraction. "
   ]
  },
  {
   "cell_type": "code",
   "execution_count": 2,
   "id": "early-madagascar",
   "metadata": {},
   "outputs": [],
   "source": [
    "# def convert_header(req_string):\n",
    "#     req_string = req_string.split('\\n')[1:]\n",
    "#     header_dict = {line.split(':')[0]: line.split(':')[1].strip() for line in req_string}\n",
    "#     return header_dict"
   ]
  },
  {
   "cell_type": "code",
   "execution_count": 3,
   "id": "possible-facing",
   "metadata": {},
   "outputs": [],
   "source": [
    "# post_request = '''GET /api/user-review/listing/ HTTP/1.1\n",
    "# Accept: application/json\n",
    "# Content-Type: application/json\n",
    "# Cookie: csrfToken=VHm2U5Zq-oFfD86kHGL2q5r36p_so3U7lg3U; isAuthenticated=false; sessionId=s%3A74c83556-5789-4987-99fe-84234bd113a1.JwnE9HctOV7VJX%2BDmauLDOG0om6Xhk5iteyLifVQl0s; userId=s%3A.2rfFf2Srfq8%2FKgdTCf9%2BPMzyieye72ZCLY64mCrGq%2F8; _fbp=fb.1.1623470714390.298313568; intercom-id-gcgemb36=2657f845-dc63-49c0-aaa1-a2e8be41cd24; intercom-session-gcgemb36=; _ga=GA1.2.586355766.1623470717; _gid=GA1.2.1586810512.1623470717; _uetsid=6544efb0cb3311ebb377714e0068f2bc; _uetvid=654500d0cb3311eb9eb0439952fb3f62; __atuvc=2%7C23; __atuvs=60c4327ca5d4cd21001; __asc=4f8e3071179fe652cbb5ed22acc; __auc=4f8e3071179fe652cbb5ed22acc; isRenoCalcShown=true; AWSELB=7DC7EFB112582530CA6573B705B4E49313D71D47E86026E5FB1B29DC6629DF7542A9A99EC36A882CF275AD69005BF24C1149C057CF3EEAF9A7E5D2BC1341D71B9162B2383A; AWSELBCORS=7DC7EFB112582530CA6573B705B4E49313D71D47E86026E5FB1B29DC6629DF7542A9A99EC36A882CF275AD69005BF24C1149C057CF3EEAF9A7E5D2BC1341D71B9162B2383A\n",
    "# Accept-Encoding: gzip, deflate, br\n",
    "# Host: qanvast.com\n",
    "# User-Agent: Mozilla/5.0 (Macintosh; Intel Mac OS X 10_15_6) AppleWebKit/605.1.15 (KHTML, like Gecko) Version/14.0.3 Safari/605.1.15\n",
    "# Referer: https://qanvast.com/sg/reviews\n",
    "# Accept-Language: en-sg\n",
    "# Connection: keep-alive\n",
    "# X-XSRF-TOKEN: VHm2U5Zq-oFfD86kHGL2q5r36p_so3U7lg3U'''\n",
    "\n",
    "# headers = convert_header(post_request)"
   ]
  },
  {
   "cell_type": "code",
   "execution_count": 4,
   "id": "federal-domestic",
   "metadata": {},
   "outputs": [],
   "source": [
    "## EXTRACTING FILES COMMENTED DATED 12 JUN\n",
    "\n",
    "# final_dict = []\n",
    "# loop = 849\n",
    "# max_sleep_time = 10\n",
    "\n",
    "# for page_num in range(loop):\n",
    "#     sleep_time = random.random() * max_sleep_time\n",
    "#     remain_page = loop - page_num\n",
    "#     print('\\rWaiting... {} loop remaining... '.format(remain_page), end='.')\n",
    "#     url = f'https://qanvast.com/api/user-review/listing/?page={page_num+1}&populate%5Buser%5D=true&populate%5Breviewee%5D=true&populate%5BprojectImages%5D=true'\n",
    "#     while True:\n",
    "#         try:\n",
    "#             response = requests.get(url, headers=headers)\n",
    "#             if response.status_code == 200:\n",
    "#                 final_dict += response.json()['data']\n",
    "#                 final_df = pd.DataFrame(final_dict)\n",
    "#                 final_df.to_csv('../data/qanvast.csv', index=False)\n",
    "#             else:\n",
    "#                 print('Failed at loop #{}...'.format(page_num))\n",
    "#         except:\n",
    "#             continue\n",
    "#         break\n",
    "#     time.sleep(sleep_time)"
   ]
  },
  {
   "cell_type": "markdown",
   "id": "d42e73f9-2f03-4508-baea-ddffdf3b0f2e",
   "metadata": {},
   "source": [
    "## 2.0 Data Cleaning "
   ]
  },
  {
   "cell_type": "markdown",
   "id": "f7782e1e-9456-4168-8162-e92e8acba1cb",
   "metadata": {},
   "source": [
    "Upon extraction, data imported for simple data cleaning to ensure the sanity of the extracted data. "
   ]
  },
  {
   "cell_type": "code",
   "execution_count": 5,
   "id": "be02b66f-e734-4145-ad86-631e918c30d2",
   "metadata": {},
   "outputs": [],
   "source": [
    "#read from extracted csv dated 12 Jun\n",
    "final_df = pd.read_csv('./data/qanvast.csv')"
   ]
  },
  {
   "cell_type": "code",
   "execution_count": 7,
   "id": "e8da63ca-defb-4e2e-8941-a78fe3ee4849",
   "metadata": {},
   "outputs": [
    {
     "name": "stdout",
     "output_type": "stream",
     "text": [
      "<class 'pandas.core.frame.DataFrame'>\n",
      "RangeIndex: 8480 entries, 0 to 8479\n",
      "Data columns (total 29 columns):\n",
      "id                         8480 non-null int64\n",
      "content                    8480 non-null object\n",
      "isPublished                8480 non-null bool\n",
      "revieweeId                 8480 non-null int64\n",
      "reviewerId                 5424 non-null float64\n",
      "reviewOf                   8480 non-null object\n",
      "projectCompletionDate      8480 non-null object\n",
      "projectCost                1364 non-null float64\n",
      "title                      8480 non-null object\n",
      "country                    8478 non-null object\n",
      "currency                   520 non-null object\n",
      "designRating               8480 non-null int64\n",
      "workmanshipRating          8480 non-null int64\n",
      "professionalismRating      8480 non-null int64\n",
      "projectManagementRating    8480 non-null int64\n",
      "designerName               6576 non-null object\n",
      "isVerified                 8480 non-null bool\n",
      "revieweeResponse           21 non-null object\n",
      "oneWeekEmail               8480 non-null bool\n",
      "offlineUserName            3057 non-null object\n",
      "qanvastResponse            1 non-null object\n",
      "createdAt                  8480 non-null object\n",
      "updatedAt                  8480 non-null object\n",
      "averageRating              8480 non-null float64\n",
      "Company                    8416 non-null object\n",
      "reviewer                   8480 non-null object\n",
      "projectImages              8480 non-null object\n",
      "company                    8416 non-null object\n",
      "unlistedCompany            64 non-null object\n",
      "dtypes: bool(3), float64(3), int64(6), object(17)\n",
      "memory usage: 1.7+ MB\n"
     ]
    }
   ],
   "source": [
    "final_df.info()"
   ]
  },
  {
   "cell_type": "code",
   "execution_count": 8,
   "id": "03cc9e64-f151-4ed6-ba7d-c942abe9a5d8",
   "metadata": {},
   "outputs": [],
   "source": [
    "#dropna unlisted company in company col\n",
    "final_df.dropna(subset=['company'], axis=0,inplace=True)"
   ]
  },
  {
   "cell_type": "markdown",
   "id": "8168003d-39ed-46a7-9756-8892e07b958c",
   "metadata": {},
   "source": [
    "Column `company` contains a dictionary containing the interior designer company names. We will extract the company names and other information will not be kept."
   ]
  },
  {
   "cell_type": "code",
   "execution_count": 9,
   "id": "65528825-32ac-478c-8eb9-08572f4927a6",
   "metadata": {},
   "outputs": [],
   "source": [
    "# error handling for company col into dict\n",
    "import ast\n",
    "final_df['company'] = final_df['company'].apply(ast.literal_eval)"
   ]
  },
  {
   "cell_type": "code",
   "execution_count": 10,
   "id": "7776e58c-bea7-478d-8ee3-95b435fe2f1b",
   "metadata": {},
   "outputs": [
    {
     "name": "stdout",
     "output_type": "stream",
     "text": [
      "<class 'pandas.core.frame.DataFrame'>\n",
      "Int64Index: 8416 entries, 0 to 8479\n",
      "Data columns (total 29 columns):\n",
      "id                         8416 non-null int64\n",
      "content                    8416 non-null object\n",
      "isPublished                8416 non-null bool\n",
      "revieweeId                 8416 non-null int64\n",
      "reviewerId                 5360 non-null float64\n",
      "reviewOf                   8416 non-null object\n",
      "projectCompletionDate      8416 non-null object\n",
      "projectCost                1362 non-null float64\n",
      "title                      8416 non-null object\n",
      "country                    8414 non-null object\n",
      "currency                   520 non-null object\n",
      "designRating               8416 non-null int64\n",
      "workmanshipRating          8416 non-null int64\n",
      "professionalismRating      8416 non-null int64\n",
      "projectManagementRating    8416 non-null int64\n",
      "designerName               6512 non-null object\n",
      "isVerified                 8416 non-null bool\n",
      "revieweeResponse           21 non-null object\n",
      "oneWeekEmail               8416 non-null bool\n",
      "offlineUserName            3057 non-null object\n",
      "qanvastResponse            1 non-null object\n",
      "createdAt                  8416 non-null object\n",
      "updatedAt                  8416 non-null object\n",
      "averageRating              8416 non-null float64\n",
      "Company                    8416 non-null object\n",
      "reviewer                   8416 non-null object\n",
      "projectImages              8416 non-null object\n",
      "company                    8416 non-null object\n",
      "unlistedCompany            0 non-null object\n",
      "dtypes: bool(3), float64(3), int64(6), object(17)\n",
      "memory usage: 1.8+ MB\n"
     ]
    }
   ],
   "source": [
    "final_df.info()"
   ]
  },
  {
   "cell_type": "code",
   "execution_count": 11,
   "id": "55c89903-f1a2-4934-9632-0a836735232a",
   "metadata": {},
   "outputs": [],
   "source": [
    "#get company name from dict\n",
    "final_df.company = final_df.company.apply(lambda x: x['name'])"
   ]
  },
  {
   "cell_type": "code",
   "execution_count": 12,
   "id": "5276eef5-f87e-4237-8e17-50c06be6f946",
   "metadata": {},
   "outputs": [
    {
     "data": {
      "text/plain": [
       "Index(['id', 'content', 'isPublished', 'revieweeId', 'reviewerId', 'reviewOf',\n",
       "       'projectCompletionDate', 'projectCost', 'title', 'country', 'currency',\n",
       "       'designRating', 'workmanshipRating', 'professionalismRating',\n",
       "       'projectManagementRating', 'designerName', 'isVerified',\n",
       "       'revieweeResponse', 'oneWeekEmail', 'offlineUserName',\n",
       "       'qanvastResponse', 'createdAt', 'updatedAt', 'averageRating', 'Company',\n",
       "       'reviewer', 'projectImages', 'company', 'unlistedCompany'],\n",
       "      dtype='object')"
      ]
     },
     "execution_count": 12,
     "metadata": {},
     "output_type": "execute_result"
    }
   ],
   "source": [
    "final_df.columns"
   ]
  },
  {
   "cell_type": "markdown",
   "id": "2f5f00ee-0ce7-4e92-bcf0-0c19ac4e3b89",
   "metadata": {},
   "source": [
    "Other columns are dropped as either they have lack of informative data and / or removed as ethical reasons due to privacy. "
   ]
  },
  {
   "cell_type": "code",
   "execution_count": 13,
   "id": "c55e30e1-bf60-482f-b495-6afbf4f256c9",
   "metadata": {},
   "outputs": [],
   "source": [
    "#column selection\n",
    "#drop cols\n",
    "final_df = final_df.drop(columns=['id','currency', 'isPublished','revieweeId','reviewerId','reviewOf','isVerified','oneWeekEmail','offlineUserName','qanvastResponse','revieweeResponse','Company','reviewer','projectImages','unlistedCompany','updatedAt','designerName'])"
   ]
  },
  {
   "cell_type": "code",
   "execution_count": 14,
   "id": "872f4559-3ee0-4520-bf47-f50d02e71396",
   "metadata": {},
   "outputs": [
    {
     "name": "stdout",
     "output_type": "stream",
     "text": [
      "<class 'pandas.core.frame.DataFrame'>\n",
      "Int64Index: 8416 entries, 0 to 8479\n",
      "Data columns (total 12 columns):\n",
      "content                    8416 non-null object\n",
      "projectCompletionDate      8416 non-null object\n",
      "projectCost                1362 non-null float64\n",
      "title                      8416 non-null object\n",
      "country                    8414 non-null object\n",
      "designRating               8416 non-null int64\n",
      "workmanshipRating          8416 non-null int64\n",
      "professionalismRating      8416 non-null int64\n",
      "projectManagementRating    8416 non-null int64\n",
      "createdAt                  8416 non-null object\n",
      "averageRating              8416 non-null float64\n",
      "company                    8416 non-null object\n",
      "dtypes: float64(2), int64(4), object(6)\n",
      "memory usage: 854.8+ KB\n"
     ]
    }
   ],
   "source": [
    "final_df.info()"
   ]
  },
  {
   "cell_type": "markdown",
   "id": "602c0803-f9c5-4c3a-baa4-1ffb9d312ed5",
   "metadata": {},
   "source": [
    "Above columns are retained for Exploratory Data Analysis."
   ]
  },
  {
   "cell_type": "markdown",
   "id": "48520779-f9a1-42e6-adfc-36e9feabeb30",
   "metadata": {},
   "source": [
    "## 3.0 Exploratory Data Analysis"
   ]
  },
  {
   "cell_type": "markdown",
   "id": "c75abde6-c008-42ce-8990-1d8c0f7956f2",
   "metadata": {},
   "source": [
    "### Project Cost"
   ]
  },
  {
   "cell_type": "code",
   "execution_count": 15,
   "id": "af5fe2b6-4be3-4340-bfb8-214954e4aaba",
   "metadata": {},
   "outputs": [],
   "source": [
    "final_df.projectCost.fillna(0,inplace=True)"
   ]
  },
  {
   "cell_type": "code",
   "execution_count": 16,
   "id": "5052c5b1-6058-4caf-a8c5-52ebc5d01fde",
   "metadata": {},
   "outputs": [
    {
     "data": {
      "image/png": "[encoded data removed]",
      "text/plain": [
       "<Figure size 956.5x432 with 1 Axes>"
      ]
     },
     "metadata": {
      "needs_background": "light"
     },
     "output_type": "display_data"
    }
   ],
   "source": [
    "temp_df = final_df[final_df.projectCost > 0][['projectCost']]\n",
    "\n",
    "sns.displot(data=temp_df,aspect=2,height=6,)\n",
    "plt.title('Project Cost Distribution (1362 records)')\n",
    "plt.show()"
   ]
  },
  {
   "cell_type": "markdown",
   "id": "9a4d6dcc-f526-4d92-8709-446f47b7ed3e",
   "metadata": {},
   "source": [
    "## Country"
   ]
  },
  {
   "cell_type": "code",
   "execution_count": 17,
   "id": "a8c58e4c-60d0-48eb-8bf8-f80893e6550a",
   "metadata": {},
   "outputs": [],
   "source": [
    "#replace country with SG\n",
    "final_df.country = final_df.country.fillna('SG')\n",
    "final_df.reset_index(drop=True, inplace=True)"
   ]
  },
  {
   "cell_type": "markdown",
   "id": "95da0c02-7485-49a8-b61e-d9124edc1648",
   "metadata": {},
   "source": [
    "## Company"
   ]
  },
  {
   "cell_type": "code",
   "execution_count": 19,
   "id": "322d0520-7589-4615-9aaf-1a0351c4a3ee",
   "metadata": {},
   "outputs": [],
   "source": [
    "#remove chinese character\n",
    "test = final_df.company.str.replace(r'[^\\s\\x00-\\x7F ]+', '')\n",
    "#remove white space\n",
    "final_df.company = test.str.strip()"
   ]
  },
  {
   "cell_type": "code",
   "execution_count": 20,
   "id": "83a32bba-0e4d-4402-a085-394c2abfbf1b",
   "metadata": {},
   "outputs": [],
   "source": [
    "total_reviews = pd.Series(final_df['company'].value_counts()).to_dict()\n",
    "final_df['total_reviews'] = final_df.company.apply(total_reviews.get)"
   ]
  },
  {
   "cell_type": "code",
   "execution_count": 21,
   "id": "18ccecd0-2bc3-4a6b-bd08-d2e727ebcd01",
   "metadata": {},
   "outputs": [],
   "source": [
    "#create dict on value counts\n",
    "# total_reviews = pd.Series(final_df['company'].value_counts()).to_dict()\n",
    "\n",
    "# review = []\n",
    "# for i in range(len(final_df)):\n",
    "#     for k, v in total_reviews.items():\n",
    "#         if k == final_df.company[i]:\n",
    "#             review.append(v)\n",
    "\n",
    "# final_df['total_reviews'] = review"
   ]
  },
  {
   "cell_type": "code",
   "execution_count": 22,
   "id": "461c5f5e-ec27-4fb1-aa6b-1b6b3a0447bf",
   "metadata": {},
   "outputs": [
    {
     "data": {
      "text/html": [
       "<div>\n",
       "<style scoped>\n",
       "    .dataframe tbody tr th:only-of-type {\n",
       "        vertical-align: middle;\n",
       "    }\n",
       "\n",
       "    .dataframe tbody tr th {\n",
       "        vertical-align: top;\n",
       "    }\n",
       "\n",
       "    .dataframe thead th {\n",
       "        text-align: right;\n",
       "    }\n",
       "</style>\n",
       "<table border=\"1\" class=\"dataframe\">\n",
       "  <thead>\n",
       "    <tr style=\"text-align: right;\">\n",
       "      <th></th>\n",
       "      <th>content</th>\n",
       "      <th>projectCompletionDate</th>\n",
       "      <th>projectCost</th>\n",
       "      <th>title</th>\n",
       "      <th>country</th>\n",
       "      <th>designRating</th>\n",
       "      <th>workmanshipRating</th>\n",
       "      <th>professionalismRating</th>\n",
       "      <th>projectManagementRating</th>\n",
       "      <th>createdAt</th>\n",
       "      <th>averageRating</th>\n",
       "      <th>company</th>\n",
       "      <th>total_reviews</th>\n",
       "    </tr>\n",
       "  </thead>\n",
       "  <tbody>\n",
       "    <tr>\n",
       "      <th>0</th>\n",
       "      <td>I'm thankful to Thomas for providing a compreh...</td>\n",
       "      <td>2021-07-31T16:00:00.000Z</td>\n",
       "      <td>0.0</td>\n",
       "      <td>Review of Thomas from Todz'Terior</td>\n",
       "      <td>SG</td>\n",
       "      <td>5</td>\n",
       "      <td>5</td>\n",
       "      <td>5</td>\n",
       "      <td>5</td>\n",
       "      <td>2021-05-31T13:44:41.680Z</td>\n",
       "      <td>5.0</td>\n",
       "      <td>TodzTerior</td>\n",
       "      <td>15</td>\n",
       "    </tr>\n",
       "    <tr>\n",
       "      <th>1</th>\n",
       "      <td>The good feeling and vibes started with our fi...</td>\n",
       "      <td>2021-05-31T16:00:00.000Z</td>\n",
       "      <td>0.0</td>\n",
       "      <td>Positive ID experience from beginning to end o...</td>\n",
       "      <td>SG</td>\n",
       "      <td>4</td>\n",
       "      <td>4</td>\n",
       "      <td>5</td>\n",
       "      <td>5</td>\n",
       "      <td>2021-06-11T16:06:49.292Z</td>\n",
       "      <td>4.5</td>\n",
       "      <td>9 Creation</td>\n",
       "      <td>63</td>\n",
       "    </tr>\n",
       "    <tr>\n",
       "      <th>2</th>\n",
       "      <td>It was a fuss free and enjoyable renovation jo...</td>\n",
       "      <td>2021-05-31T16:00:00.000Z</td>\n",
       "      <td>0.0</td>\n",
       "      <td>Great Job!</td>\n",
       "      <td>SG</td>\n",
       "      <td>4</td>\n",
       "      <td>5</td>\n",
       "      <td>4</td>\n",
       "      <td>5</td>\n",
       "      <td>2021-06-11T08:14:39.625Z</td>\n",
       "      <td>4.5</td>\n",
       "      <td>Ciseern</td>\n",
       "      <td>49</td>\n",
       "    </tr>\n",
       "    <tr>\n",
       "      <th>3</th>\n",
       "      <td>I highly recommend Interior Times.I found the ...</td>\n",
       "      <td>2021-05-31T16:00:00.000Z</td>\n",
       "      <td>0.0</td>\n",
       "      <td>Renovation of 4 room BTO</td>\n",
       "      <td>SG</td>\n",
       "      <td>5</td>\n",
       "      <td>5</td>\n",
       "      <td>5</td>\n",
       "      <td>5</td>\n",
       "      <td>2021-06-11T06:10:02.773Z</td>\n",
       "      <td>5.0</td>\n",
       "      <td>Interior Times</td>\n",
       "      <td>90</td>\n",
       "    </tr>\n",
       "    <tr>\n",
       "      <th>4</th>\n",
       "      <td>Engaged Luova Project Services for a total rev...</td>\n",
       "      <td>2021-05-31T16:00:00.000Z</td>\n",
       "      <td>0.0</td>\n",
       "      <td>Went beyond their way to ensure everything is ...</td>\n",
       "      <td>SG</td>\n",
       "      <td>5</td>\n",
       "      <td>5</td>\n",
       "      <td>5</td>\n",
       "      <td>5</td>\n",
       "      <td>2021-06-10T05:37:44.982Z</td>\n",
       "      <td>5.0</td>\n",
       "      <td>Luova Project Services</td>\n",
       "      <td>26</td>\n",
       "    </tr>\n",
       "  </tbody>\n",
       "</table>\n",
       "</div>"
      ],
      "text/plain": [
       "                                             content  \\\n",
       "0  I'm thankful to Thomas for providing a compreh...   \n",
       "1  The good feeling and vibes started with our fi...   \n",
       "2  It was a fuss free and enjoyable renovation jo...   \n",
       "3  I highly recommend Interior Times.I found the ...   \n",
       "4  Engaged Luova Project Services for a total rev...   \n",
       "\n",
       "      projectCompletionDate  projectCost  \\\n",
       "0  2021-07-31T16:00:00.000Z          0.0   \n",
       "1  2021-05-31T16:00:00.000Z          0.0   \n",
       "2  2021-05-31T16:00:00.000Z          0.0   \n",
       "3  2021-05-31T16:00:00.000Z          0.0   \n",
       "4  2021-05-31T16:00:00.000Z          0.0   \n",
       "\n",
       "                                               title country  designRating  \\\n",
       "0                  Review of Thomas from Todz'Terior      SG             5   \n",
       "1  Positive ID experience from beginning to end o...      SG             4   \n",
       "2                                         Great Job!      SG             4   \n",
       "3                           Renovation of 4 room BTO      SG             5   \n",
       "4  Went beyond their way to ensure everything is ...      SG             5   \n",
       "\n",
       "   workmanshipRating  professionalismRating  projectManagementRating  \\\n",
       "0                  5                      5                        5   \n",
       "1                  4                      5                        5   \n",
       "2                  5                      4                        5   \n",
       "3                  5                      5                        5   \n",
       "4                  5                      5                        5   \n",
       "\n",
       "                  createdAt  averageRating                 company  \\\n",
       "0  2021-05-31T13:44:41.680Z            5.0              TodzTerior   \n",
       "1  2021-06-11T16:06:49.292Z            4.5              9 Creation   \n",
       "2  2021-06-11T08:14:39.625Z            4.5                 Ciseern   \n",
       "3  2021-06-11T06:10:02.773Z            5.0          Interior Times   \n",
       "4  2021-06-10T05:37:44.982Z            5.0  Luova Project Services   \n",
       "\n",
       "   total_reviews  \n",
       "0             15  \n",
       "1             63  \n",
       "2             49  \n",
       "3             90  \n",
       "4             26  "
      ]
     },
     "execution_count": 22,
     "metadata": {},
     "output_type": "execute_result"
    }
   ],
   "source": [
    "final_df.head()"
   ]
  },
  {
   "cell_type": "markdown",
   "id": "898f7dac-064d-4a7c-b8ee-1d7085424415",
   "metadata": {},
   "source": [
    "## Completion and posted date"
   ]
  },
  {
   "cell_type": "code",
   "execution_count": 23,
   "id": "c7282eee-406b-45bc-a6a3-292dbe2a0c0a",
   "metadata": {},
   "outputs": [],
   "source": [
    "#func to convert values to datetime format\n",
    "def convert_dt(df, col):\n",
    "    df[col] = pd.to_datetime(df[col])"
   ]
  },
  {
   "cell_type": "code",
   "execution_count": 24,
   "id": "659bddd5-54f7-41f8-949d-615a687bcbe9",
   "metadata": {},
   "outputs": [],
   "source": [
    "#convert completion time, created review and updated review time\n",
    "convert_dt(final_df, 'projectCompletionDate')\n",
    "convert_dt(final_df, 'createdAt')"
   ]
  },
  {
   "cell_type": "code",
   "execution_count": 25,
   "id": "c08c78ea-9cbb-42ba-a6db-a3e06f8881f3",
   "metadata": {},
   "outputs": [
    {
     "data": {
      "text/plain": [
       "datetime.date(2014, 10, 13)"
      ]
     },
     "execution_count": 25,
     "metadata": {},
     "output_type": "execute_result"
    }
   ],
   "source": [
    "final_df.createdAt.dt.date.min()"
   ]
  },
  {
   "cell_type": "code",
   "execution_count": 26,
   "id": "643e19a4-f1fb-4b3f-a2c0-24a94a8d1c6a",
   "metadata": {},
   "outputs": [
    {
     "data": {
      "text/plain": [
       "datetime.date(2021, 6, 11)"
      ]
     },
     "execution_count": 26,
     "metadata": {},
     "output_type": "execute_result"
    }
   ],
   "source": [
    "final_df.createdAt.dt.date.max()"
   ]
  },
  {
   "cell_type": "code",
   "execution_count": 27,
   "id": "969d5d1b-3bf0-4394-a576-d38edc69625a",
   "metadata": {},
   "outputs": [
    {
     "data": {
      "text/plain": [
       "datetime.date(2015, 9, 30)"
      ]
     },
     "execution_count": 27,
     "metadata": {},
     "output_type": "execute_result"
    }
   ],
   "source": [
    "final_df.projectCompletionDate.dt.date.min()"
   ]
  },
  {
   "cell_type": "code",
   "execution_count": 28,
   "id": "1b56faa6-4271-4ba9-b103-ecb2d927c80b",
   "metadata": {},
   "outputs": [
    {
     "data": {
      "text/plain": [
       "datetime.date(2021, 7, 31)"
      ]
     },
     "execution_count": 28,
     "metadata": {},
     "output_type": "execute_result"
    }
   ],
   "source": [
    "final_df.projectCompletionDate.dt.date.max()"
   ]
  },
  {
   "cell_type": "code",
   "execution_count": 29,
   "id": "9fab3ffc-f121-4af8-b646-e12dfb0da7ea",
   "metadata": {},
   "outputs": [],
   "source": [
    "# reset index after remove na\n",
    "final_df.reset_index(drop=True, inplace=True)"
   ]
  },
  {
   "cell_type": "code",
   "execution_count": 30,
   "id": "dbc4aafb-1117-4942-bbeb-7fd749b429ef",
   "metadata": {},
   "outputs": [
    {
     "name": "stdout",
     "output_type": "stream",
     "text": [
      "<class 'pandas.core.frame.DataFrame'>\n",
      "RangeIndex: 8416 entries, 0 to 8415\n",
      "Data columns (total 13 columns):\n",
      "content                    8416 non-null object\n",
      "projectCompletionDate      8416 non-null datetime64[ns, UTC]\n",
      "projectCost                8416 non-null float64\n",
      "title                      8416 non-null object\n",
      "country                    8416 non-null object\n",
      "designRating               8416 non-null int64\n",
      "workmanshipRating          8416 non-null int64\n",
      "professionalismRating      8416 non-null int64\n",
      "projectManagementRating    8416 non-null int64\n",
      "createdAt                  8416 non-null datetime64[ns, UTC]\n",
      "averageRating              8416 non-null float64\n",
      "company                    8416 non-null object\n",
      "total_reviews              8416 non-null int64\n",
      "dtypes: datetime64[ns, UTC](2), float64(2), int64(5), object(4)\n",
      "memory usage: 854.9+ KB\n"
     ]
    }
   ],
   "source": [
    "final_df.info()"
   ]
  },
  {
   "cell_type": "code",
   "execution_count": 31,
   "id": "67a193fe-63e2-4cb3-8ce1-352104e2c4e3",
   "metadata": {},
   "outputs": [
    {
     "data": {
      "text/plain": [
       "0       7\n",
       "1       5\n",
       "2       5\n",
       "3       5\n",
       "4       5\n",
       "       ..\n",
       "8411    9\n",
       "8412    9\n",
       "8413    9\n",
       "8414    9\n",
       "8415    9\n",
       "Name: projectCompletionDate, Length: 8416, dtype: int64"
      ]
     },
     "execution_count": 31,
     "metadata": {},
     "output_type": "execute_result"
    }
   ],
   "source": [
    "final_df.projectCompletionDate.dt.month"
   ]
  },
  {
   "cell_type": "code",
   "execution_count": 32,
   "id": "f8fec717-a323-43f0-8e51-5d6ce57fba6a",
   "metadata": {},
   "outputs": [
    {
     "data": {
      "image/png": "[encoded data removed]",
      "text/plain": [
       "<Figure size 1440x576 with 1 Axes>"
      ]
     },
     "metadata": {
      "needs_background": "light"
     },
     "output_type": "display_data"
    }
   ],
   "source": [
    "#project completion\n",
    "plt.figure(figsize=(20,8))\n",
    "temp_df = final_df.resample('Y', on='projectCompletionDate').count()[['content']].reset_index()\n",
    "sns.barplot(data=temp_df, x=temp_df.projectCompletionDate.dt.year, y= temp_df.content, color='tab:blue')\n",
    "plt.title('Project Completion in Years')\n",
    "plt.show()"
   ]
  },
  {
   "cell_type": "code",
   "execution_count": 33,
   "id": "30085a7b-1efb-47b7-8163-b770ac693824",
   "metadata": {},
   "outputs": [
    {
     "data": {
      "image/png": "[encoded data removed]",
      "text/plain": [
       "<Figure size 1440x576 with 1 Axes>"
      ]
     },
     "metadata": {
      "needs_background": "light"
     },
     "output_type": "display_data"
    }
   ],
   "source": [
    "#completion by months\n",
    "plt.figure(figsize=(20,8))\n",
    "temp_df = final_df.resample('M', on='projectCompletionDate').count()[['content']].reset_index()\n",
    "sns.boxplot(data=temp_df, x=temp_df.projectCompletionDate.dt.month, y= temp_df.content, color='tab:blue')\n",
    "plt.title('Project Completion in Months')\n",
    "plt.show()"
   ]
  },
  {
   "cell_type": "code",
   "execution_count": 34,
   "id": "7a5bd479-193e-4d32-9d17-75183c891133",
   "metadata": {},
   "outputs": [
    {
     "data": {
      "image/png": "[encoded data removed]",
      "text/plain": [
       "<Figure size 1440x576 with 2 Axes>"
      ]
     },
     "metadata": {
      "needs_background": "light"
     },
     "output_type": "display_data"
    }
   ],
   "source": [
    "plt.figure(figsize=(20,8))\n",
    "cmap = sns.diverging_palette(225,15,as_cmap=True)\n",
    "temp_df = final_df.groupby([(final_df.projectCompletionDate.dt.year),(final_df.projectCompletionDate.dt.month)]).count()[['content']].unstack()\n",
    "sns.heatmap(data=temp_df, annot=True, cmap=cmap, linewidths=.5, xticklabels=['Jan','Feb','Mar','Apr','May','Jun','Jul','Aug','Sep','Oct','Nov','Dec'], fmt='2g')\n",
    "plt.title('Project Completion')\n",
    "plt.ylabel('Project Completion Year')\n",
    "plt.xlabel('Project Completion Months')\n",
    "plt.show()"
   ]
  },
  {
   "cell_type": "markdown",
   "id": "c42f1925-348b-4ab0-ab03-2acbcaae8331",
   "metadata": {},
   "source": [
    "## Review"
   ]
  },
  {
   "cell_type": "code",
   "execution_count": 35,
   "id": "6762a3f1-073f-460a-9212-34a16adea06c",
   "metadata": {},
   "outputs": [
    {
     "data": {
      "text/html": [
       "<div>\n",
       "<style scoped>\n",
       "    .dataframe tbody tr th:only-of-type {\n",
       "        vertical-align: middle;\n",
       "    }\n",
       "\n",
       "    .dataframe tbody tr th {\n",
       "        vertical-align: top;\n",
       "    }\n",
       "\n",
       "    .dataframe thead th {\n",
       "        text-align: right;\n",
       "    }\n",
       "</style>\n",
       "<table border=\"1\" class=\"dataframe\">\n",
       "  <thead>\n",
       "    <tr style=\"text-align: right;\">\n",
       "      <th></th>\n",
       "      <th>content</th>\n",
       "      <th>projectCompletionDate</th>\n",
       "      <th>projectCost</th>\n",
       "      <th>title</th>\n",
       "      <th>country</th>\n",
       "      <th>designRating</th>\n",
       "      <th>workmanshipRating</th>\n",
       "      <th>professionalismRating</th>\n",
       "      <th>projectManagementRating</th>\n",
       "      <th>createdAt</th>\n",
       "      <th>averageRating</th>\n",
       "      <th>company</th>\n",
       "      <th>total_reviews</th>\n",
       "    </tr>\n",
       "  </thead>\n",
       "  <tbody>\n",
       "    <tr>\n",
       "      <th>0</th>\n",
       "      <td>I'm thankful to Thomas for providing a compreh...</td>\n",
       "      <td>2021-07-31 16:00:00+00:00</td>\n",
       "      <td>0.0</td>\n",
       "      <td>Review of Thomas from Todz'Terior</td>\n",
       "      <td>SG</td>\n",
       "      <td>5</td>\n",
       "      <td>5</td>\n",
       "      <td>5</td>\n",
       "      <td>5</td>\n",
       "      <td>2021-05-31 13:44:41.680000+00:00</td>\n",
       "      <td>5.0</td>\n",
       "      <td>TodzTerior</td>\n",
       "      <td>15</td>\n",
       "    </tr>\n",
       "    <tr>\n",
       "      <th>1</th>\n",
       "      <td>The good feeling and vibes started with our fi...</td>\n",
       "      <td>2021-05-31 16:00:00+00:00</td>\n",
       "      <td>0.0</td>\n",
       "      <td>Positive ID experience from beginning to end o...</td>\n",
       "      <td>SG</td>\n",
       "      <td>4</td>\n",
       "      <td>4</td>\n",
       "      <td>5</td>\n",
       "      <td>5</td>\n",
       "      <td>2021-06-11 16:06:49.292000+00:00</td>\n",
       "      <td>4.5</td>\n",
       "      <td>9 Creation</td>\n",
       "      <td>63</td>\n",
       "    </tr>\n",
       "    <tr>\n",
       "      <th>2</th>\n",
       "      <td>It was a fuss free and enjoyable renovation jo...</td>\n",
       "      <td>2021-05-31 16:00:00+00:00</td>\n",
       "      <td>0.0</td>\n",
       "      <td>Great Job!</td>\n",
       "      <td>SG</td>\n",
       "      <td>4</td>\n",
       "      <td>5</td>\n",
       "      <td>4</td>\n",
       "      <td>5</td>\n",
       "      <td>2021-06-11 08:14:39.625000+00:00</td>\n",
       "      <td>4.5</td>\n",
       "      <td>Ciseern</td>\n",
       "      <td>49</td>\n",
       "    </tr>\n",
       "    <tr>\n",
       "      <th>3</th>\n",
       "      <td>I highly recommend Interior Times.I found the ...</td>\n",
       "      <td>2021-05-31 16:00:00+00:00</td>\n",
       "      <td>0.0</td>\n",
       "      <td>Renovation of 4 room BTO</td>\n",
       "      <td>SG</td>\n",
       "      <td>5</td>\n",
       "      <td>5</td>\n",
       "      <td>5</td>\n",
       "      <td>5</td>\n",
       "      <td>2021-06-11 06:10:02.773000+00:00</td>\n",
       "      <td>5.0</td>\n",
       "      <td>Interior Times</td>\n",
       "      <td>90</td>\n",
       "    </tr>\n",
       "    <tr>\n",
       "      <th>4</th>\n",
       "      <td>Engaged Luova Project Services for a total rev...</td>\n",
       "      <td>2021-05-31 16:00:00+00:00</td>\n",
       "      <td>0.0</td>\n",
       "      <td>Went beyond their way to ensure everything is ...</td>\n",
       "      <td>SG</td>\n",
       "      <td>5</td>\n",
       "      <td>5</td>\n",
       "      <td>5</td>\n",
       "      <td>5</td>\n",
       "      <td>2021-06-10 05:37:44.982000+00:00</td>\n",
       "      <td>5.0</td>\n",
       "      <td>Luova Project Services</td>\n",
       "      <td>26</td>\n",
       "    </tr>\n",
       "  </tbody>\n",
       "</table>\n",
       "</div>"
      ],
      "text/plain": [
       "                                             content  \\\n",
       "0  I'm thankful to Thomas for providing a compreh...   \n",
       "1  The good feeling and vibes started with our fi...   \n",
       "2  It was a fuss free and enjoyable renovation jo...   \n",
       "3  I highly recommend Interior Times.I found the ...   \n",
       "4  Engaged Luova Project Services for a total rev...   \n",
       "\n",
       "      projectCompletionDate  projectCost  \\\n",
       "0 2021-07-31 16:00:00+00:00          0.0   \n",
       "1 2021-05-31 16:00:00+00:00          0.0   \n",
       "2 2021-05-31 16:00:00+00:00          0.0   \n",
       "3 2021-05-31 16:00:00+00:00          0.0   \n",
       "4 2021-05-31 16:00:00+00:00          0.0   \n",
       "\n",
       "                                               title country  designRating  \\\n",
       "0                  Review of Thomas from Todz'Terior      SG             5   \n",
       "1  Positive ID experience from beginning to end o...      SG             4   \n",
       "2                                         Great Job!      SG             4   \n",
       "3                           Renovation of 4 room BTO      SG             5   \n",
       "4  Went beyond their way to ensure everything is ...      SG             5   \n",
       "\n",
       "   workmanshipRating  professionalismRating  projectManagementRating  \\\n",
       "0                  5                      5                        5   \n",
       "1                  4                      5                        5   \n",
       "2                  5                      4                        5   \n",
       "3                  5                      5                        5   \n",
       "4                  5                      5                        5   \n",
       "\n",
       "                         createdAt  averageRating                 company  \\\n",
       "0 2021-05-31 13:44:41.680000+00:00            5.0              TodzTerior   \n",
       "1 2021-06-11 16:06:49.292000+00:00            4.5              9 Creation   \n",
       "2 2021-06-11 08:14:39.625000+00:00            4.5                 Ciseern   \n",
       "3 2021-06-11 06:10:02.773000+00:00            5.0          Interior Times   \n",
       "4 2021-06-10 05:37:44.982000+00:00            5.0  Luova Project Services   \n",
       "\n",
       "   total_reviews  \n",
       "0             15  \n",
       "1             63  \n",
       "2             49  \n",
       "3             90  \n",
       "4             26  "
      ]
     },
     "execution_count": 35,
     "metadata": {},
     "output_type": "execute_result"
    }
   ],
   "source": [
    "final_df.head()"
   ]
  },
  {
   "cell_type": "code",
   "execution_count": 37,
   "id": "1c733def-4780-40c6-9367-c7ddd1340939",
   "metadata": {},
   "outputs": [],
   "source": [
    "final_df['reviews'] = final_df.title + ' ' + final_df.content"
   ]
  },
  {
   "cell_type": "code",
   "execution_count": 39,
   "id": "926521ab-1d2e-45c8-b9b5-832099b8ad5c",
   "metadata": {},
   "outputs": [],
   "source": [
    "final_df.drop(columns=['title','content'], inplace=True)"
   ]
  },
  {
   "cell_type": "code",
   "execution_count": 41,
   "id": "ebcf589f-6192-4f0e-aeda-7813f5a2ade8",
   "metadata": {},
   "outputs": [
    {
     "data": {
      "text/plain": [
       "0       Review of Thomas from Todz'Terior I'm thankful...\n",
       "1       Positive ID experience from beginning to end o...\n",
       "2       Great Job! It was a fuss free and enjoyable re...\n",
       "3       Renovation of 4 room BTO I highly recommend In...\n",
       "4       Went beyond their way to ensure everything is ...\n",
       "                              ...                        \n",
       "8411    Chuan Jin Over a span of 6 months, I've spoken...\n",
       "8412    Niki & Daniel We chanced upon Posh Living's Fa...\n",
       "8413    Jiahe Marina was one of my school friends and ...\n",
       "8414    Ople When we went to Blackjack's showroom, we ...\n",
       "8415    Rainforest Through Qanvast, we were looking ar...\n",
       "Name: reviews, Length: 8416, dtype: object"
      ]
     },
     "execution_count": 41,
     "metadata": {},
     "output_type": "execute_result"
    }
   ],
   "source": [
    "final_df.reviews"
   ]
  },
  {
   "cell_type": "code",
   "execution_count": 42,
   "id": "1db9cc6a-1506-45bc-b512-700cc81de914",
   "metadata": {},
   "outputs": [],
   "source": [
    "final_df.to_csv('./cleaned_qvst.csv',index=False)"
   ]
  },
  {
   "cell_type": "code",
   "execution_count": null,
   "id": "88982394-7262-4281-9579-b7131e0db7f7",
   "metadata": {},
   "outputs": [],
   "source": []
  }
 ],
 "metadata": {
  "kernelspec": {
   "display_name": "Python 3",
   "language": "python",
   "name": "python3"
  },
  "language_info": {
   "codemirror_mode": {
    "name": "ipython",
    "version": 3
   },
   "file_extension": ".py",
   "mimetype": "text/x-python",
   "name": "python",
   "nbconvert_exporter": "python",
   "pygments_lexer": "ipython3",
   "version": "3.8.5"
  }
 },
 "nbformat": 4,
 "nbformat_minor": 5
}
