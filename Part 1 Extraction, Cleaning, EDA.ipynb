{
 "cells": [
  {
   "cell_type": "markdown",
   "id": "9971894f-bb9b-4bd4-83ce-9ec6dbcfefdd",
   "metadata": {},
   "source": [
    "# Qanvast, Interior Design Vendor Management System - Part 1"
   ]
  },
  {
   "cell_type": "markdown",
   "id": "d111425b-6e5c-4b7c-9554-de7e8be9f876",
   "metadata": {},
   "source": [
    "This personal project appeals to identify the top vendors and user sentiment across Interior Design (ID) Company in Singapore. Qanvast is a renovation platform for user to seek inspiration and get matched with vendor locally in Singapore based on the budget requirement and attain several vendor quotations for user review prior to engagement. \n",
    "\n",
    "Using Natural Language Processing to identify the sentiment and ratings across listed vendors and identify room for improvement, otherwise interference may be required to retain a pool of high-quality approved vendor list. "
   ]
  },
  {
   "cell_type": "markdown",
   "id": "d4323c1a-2fbd-43fd-8fcc-de005d00bb5c",
   "metadata": {},
   "source": [
    "# Notebook Brief"
   ]
  },
  {
   "cell_type": "markdown",
   "id": "c4f2c5fb-1c8a-44ca-871f-81b706507111",
   "metadata": {},
   "source": [
    "This notebook contains the data extraction, cleaning and basic exploratory on the data features. Preprocessing on reviews and text will be in upcoming notebook.\n",
    "\n",
    "Note: If you have yet to see the next notebook, it is in progress at the moment. "
   ]
  },
  {
   "cell_type": "markdown",
   "id": "6a9d7340-fc6b-4165-bb3f-d2ad6fd9933a",
   "metadata": {},
   "source": [
    "## 1.0 Data Extraction"
   ]
  },
  {
   "cell_type": "markdown",
   "id": "7baf9192-f2c6-4f46-bc92-8d2b1d299202",
   "metadata": {},
   "source": [
    "Data is extracted from Qanvast website as follow. All private information are removed prior to any processing to protect user identity and information."
   ]
  },
  {
   "cell_type": "code",
   "execution_count": 2,
   "id": "temporal-lottery",
   "metadata": {},
   "outputs": [],
   "source": [
    "import requests\n",
    "import time\n",
    "import random\n",
    "import numpy as np\n",
    "import pandas as pd\n",
    "import matplotlib.pyplot as plt\n",
    "import seaborn as sns\n",
    "\n",
    "pd.set_option('display.max_columns', 100)"
   ]
  },
  {
   "cell_type": "markdown",
   "id": "8c07b557-f2ed-4664-9615-2ec5e89cd415",
   "metadata": {},
   "source": [
    "Below function is commented after scrapping to avoid repeat data extraction. "
   ]
  },
  {
   "cell_type": "code",
   "execution_count": 3,
   "id": "early-madagascar",
   "metadata": {},
   "outputs": [],
   "source": [
    "# def convert_header(req_string):\n",
    "#     req_string = req_string.split('\\n')[1:]\n",
    "#     header_dict = {line.split(':')[0]: line.split(':')[1].strip() for line in req_string}\n",
    "#     return header_dict"
   ]
  },
  {
   "cell_type": "code",
   "execution_count": 4,
   "id": "possible-facing",
   "metadata": {},
   "outputs": [],
   "source": [
    "# post_request = '''GET /api/user-review/listing/ HTTP/1.1\n",
    "# Accept: application/json\n",
    "# Content-Type: application/json\n",
    "# Cookie: csrfToken=VHm2U5Zq-oFfD86kHGL2q5r36p_so3U7lg3U; isAuthenticated=false; sessionId=s%3A74c83556-5789-4987-99fe-84234bd113a1.JwnE9HctOV7VJX%2BDmauLDOG0om6Xhk5iteyLifVQl0s; userId=s%3A.2rfFf2Srfq8%2FKgdTCf9%2BPMzyieye72ZCLY64mCrGq%2F8; _fbp=fb.1.1623470714390.298313568; intercom-id-gcgemb36=2657f845-dc63-49c0-aaa1-a2e8be41cd24; intercom-session-gcgemb36=; _ga=GA1.2.586355766.1623470717; _gid=GA1.2.1586810512.1623470717; _uetsid=6544efb0cb3311ebb377714e0068f2bc; _uetvid=654500d0cb3311eb9eb0439952fb3f62; __atuvc=2%7C23; __atuvs=60c4327ca5d4cd21001; __asc=4f8e3071179fe652cbb5ed22acc; __auc=4f8e3071179fe652cbb5ed22acc; isRenoCalcShown=true; AWSELB=7DC7EFB112582530CA6573B705B4E49313D71D47E86026E5FB1B29DC6629DF7542A9A99EC36A882CF275AD69005BF24C1149C057CF3EEAF9A7E5D2BC1341D71B9162B2383A; AWSELBCORS=7DC7EFB112582530CA6573B705B4E49313D71D47E86026E5FB1B29DC6629DF7542A9A99EC36A882CF275AD69005BF24C1149C057CF3EEAF9A7E5D2BC1341D71B9162B2383A\n",
    "# Accept-Encoding: gzip, deflate, br\n",
    "# Host: qanvast.com\n",
    "# User-Agent: Mozilla/5.0 (Macintosh; Intel Mac OS X 10_15_6) AppleWebKit/605.1.15 (KHTML, like Gecko) Version/14.0.3 Safari/605.1.15\n",
    "# Referer: https://qanvast.com/sg/reviews\n",
    "# Accept-Language: en-sg\n",
    "# Connection: keep-alive\n",
    "# X-XSRF-TOKEN: VHm2U5Zq-oFfD86kHGL2q5r36p_so3U7lg3U'''\n",
    "\n",
    "# headers = convert_header(post_request)"
   ]
  },
  {
   "cell_type": "code",
   "execution_count": 5,
   "id": "federal-domestic",
   "metadata": {},
   "outputs": [],
   "source": [
    "## EXTRACTING FILES COMMENTED DATED 12 JUN\n",
    "\n",
    "# final_dict = []\n",
    "# loop = 849\n",
    "# max_sleep_time = 10\n",
    "\n",
    "# for page_num in range(loop):\n",
    "#     sleep_time = random.random() * max_sleep_time\n",
    "#     remain_page = loop - page_num\n",
    "#     print('\\rWaiting... {} loop remaining... '.format(remain_page), end='.')\n",
    "#     url = f'https://qanvast.com/api/user-review/listing/?page={page_num+1}&populate%5Buser%5D=true&populate%5Breviewee%5D=true&populate%5BprojectImages%5D=true'\n",
    "#     while True:\n",
    "#         try:\n",
    "#             response = requests.get(url, headers=headers)\n",
    "#             if response.status_code == 200:\n",
    "#                 final_dict += response.json()['data']\n",
    "#                 final_df = pd.DataFrame(final_dict)\n",
    "#                 final_df.to_csv('../data/qanvast.csv', index=False)\n",
    "#             else:\n",
    "#                 print('Failed at loop #{}...'.format(page_num))\n",
    "#         except:\n",
    "#             continue\n",
    "#         break\n",
    "#     time.sleep(sleep_time)"
   ]
  },
  {
   "cell_type": "markdown",
   "id": "d42e73f9-2f03-4508-baea-ddffdf3b0f2e",
   "metadata": {},
   "source": [
    "## 2.0 Data Cleaning "
   ]
  },
  {
   "cell_type": "markdown",
   "id": "f7782e1e-9456-4168-8162-e92e8acba1cb",
   "metadata": {},
   "source": [
    "Upon extraction, data imported for simple data cleaning to ensure the sanity of the extracted data. "
   ]
  },
  {
   "cell_type": "code",
   "execution_count": 6,
   "id": "be02b66f-e734-4145-ad86-631e918c30d2",
   "metadata": {},
   "outputs": [],
   "source": [
    "#read from extracted csv dated 12 Jun\n",
    "final_df = pd.read_csv('./data/qanvast.csv')"
   ]
  },
  {
   "cell_type": "code",
   "execution_count": 7,
   "id": "e8da63ca-defb-4e2e-8941-a78fe3ee4849",
   "metadata": {},
   "outputs": [
    {
     "name": "stdout",
     "output_type": "stream",
     "text": [
      "<class 'pandas.core.frame.DataFrame'>\n",
      "RangeIndex: 8480 entries, 0 to 8479\n",
      "Data columns (total 29 columns):\n",
      "id                         8480 non-null int64\n",
      "content                    8480 non-null object\n",
      "isPublished                8480 non-null bool\n",
      "revieweeId                 8480 non-null int64\n",
      "reviewerId                 5424 non-null float64\n",
      "reviewOf                   8480 non-null object\n",
      "projectCompletionDate      8480 non-null object\n",
      "projectCost                1364 non-null float64\n",
      "title                      8480 non-null object\n",
      "country                    8478 non-null object\n",
      "currency                   520 non-null object\n",
      "designRating               8480 non-null int64\n",
      "workmanshipRating          8480 non-null int64\n",
      "professionalismRating      8480 non-null int64\n",
      "projectManagementRating    8480 non-null int64\n",
      "designerName               6576 non-null object\n",
      "isVerified                 8480 non-null bool\n",
      "revieweeResponse           21 non-null object\n",
      "oneWeekEmail               8480 non-null bool\n",
      "offlineUserName            3057 non-null object\n",
      "qanvastResponse            1 non-null object\n",
      "createdAt                  8480 non-null object\n",
      "updatedAt                  8480 non-null object\n",
      "averageRating              8480 non-null float64\n",
      "Company                    8416 non-null object\n",
      "reviewer                   8480 non-null object\n",
      "projectImages              8480 non-null object\n",
      "company                    8416 non-null object\n",
      "unlistedCompany            64 non-null object\n",
      "dtypes: bool(3), float64(3), int64(6), object(17)\n",
      "memory usage: 1.7+ MB\n"
     ]
    }
   ],
   "source": [
    "final_df.info()"
   ]
  },
  {
   "cell_type": "code",
   "execution_count": 8,
   "id": "03cc9e64-f151-4ed6-ba7d-c942abe9a5d8",
   "metadata": {},
   "outputs": [],
   "source": [
    "#dropna unlisted company in company col\n",
    "final_df.dropna(subset=['company'], axis=0,inplace=True)"
   ]
  },
  {
   "cell_type": "markdown",
   "id": "8168003d-39ed-46a7-9756-8892e07b958c",
   "metadata": {},
   "source": [
    "Column `company` contains a dictionary containing the interior designer company names. We will extract the company names and other information will not be kept."
   ]
  },
  {
   "cell_type": "code",
   "execution_count": 9,
   "id": "65528825-32ac-478c-8eb9-08572f4927a6",
   "metadata": {},
   "outputs": [],
   "source": [
    "# error handling for company col into dict\n",
    "import ast\n",
    "final_df['company'] = final_df['company'].apply(ast.literal_eval)"
   ]
  },
  {
   "cell_type": "code",
   "execution_count": 10,
   "id": "7776e58c-bea7-478d-8ee3-95b435fe2f1b",
   "metadata": {},
   "outputs": [
    {
     "name": "stdout",
     "output_type": "stream",
     "text": [
      "<class 'pandas.core.frame.DataFrame'>\n",
      "Int64Index: 8416 entries, 0 to 8479\n",
      "Data columns (total 29 columns):\n",
      "id                         8416 non-null int64\n",
      "content                    8416 non-null object\n",
      "isPublished                8416 non-null bool\n",
      "revieweeId                 8416 non-null int64\n",
      "reviewerId                 5360 non-null float64\n",
      "reviewOf                   8416 non-null object\n",
      "projectCompletionDate      8416 non-null object\n",
      "projectCost                1362 non-null float64\n",
      "title                      8416 non-null object\n",
      "country                    8414 non-null object\n",
      "currency                   520 non-null object\n",
      "designRating               8416 non-null int64\n",
      "workmanshipRating          8416 non-null int64\n",
      "professionalismRating      8416 non-null int64\n",
      "projectManagementRating    8416 non-null int64\n",
      "designerName               6512 non-null object\n",
      "isVerified                 8416 non-null bool\n",
      "revieweeResponse           21 non-null object\n",
      "oneWeekEmail               8416 non-null bool\n",
      "offlineUserName            3057 non-null object\n",
      "qanvastResponse            1 non-null object\n",
      "createdAt                  8416 non-null object\n",
      "updatedAt                  8416 non-null object\n",
      "averageRating              8416 non-null float64\n",
      "Company                    8416 non-null object\n",
      "reviewer                   8416 non-null object\n",
      "projectImages              8416 non-null object\n",
      "company                    8416 non-null object\n",
      "unlistedCompany            0 non-null object\n",
      "dtypes: bool(3), float64(3), int64(6), object(17)\n",
      "memory usage: 1.8+ MB\n"
     ]
    }
   ],
   "source": [
    "final_df.info()"
   ]
  },
  {
   "cell_type": "code",
   "execution_count": 11,
   "id": "55c89903-f1a2-4934-9632-0a836735232a",
   "metadata": {},
   "outputs": [],
   "source": [
    "#get company name from dict\n",
    "final_df.company = final_df.company.apply(lambda x: x['name'])"
   ]
  },
  {
   "cell_type": "code",
   "execution_count": 12,
   "id": "5276eef5-f87e-4237-8e17-50c06be6f946",
   "metadata": {},
   "outputs": [
    {
     "data": {
      "text/plain": [
       "Index(['id', 'content', 'isPublished', 'revieweeId', 'reviewerId', 'reviewOf',\n",
       "       'projectCompletionDate', 'projectCost', 'title', 'country', 'currency',\n",
       "       'designRating', 'workmanshipRating', 'professionalismRating',\n",
       "       'projectManagementRating', 'designerName', 'isVerified',\n",
       "       'revieweeResponse', 'oneWeekEmail', 'offlineUserName',\n",
       "       'qanvastResponse', 'createdAt', 'updatedAt', 'averageRating', 'Company',\n",
       "       'reviewer', 'projectImages', 'company', 'unlistedCompany'],\n",
       "      dtype='object')"
      ]
     },
     "execution_count": 12,
     "metadata": {},
     "output_type": "execute_result"
    }
   ],
   "source": [
    "final_df.columns"
   ]
  },
  {
   "cell_type": "markdown",
   "id": "2f5f00ee-0ce7-4e92-bcf0-0c19ac4e3b89",
   "metadata": {},
   "source": [
    "Other columns are dropped as either they have lack of informative data and / or removed as ethical reasons due to privacy. "
   ]
  },
  {
   "cell_type": "code",
   "execution_count": 13,
   "id": "c55e30e1-bf60-482f-b495-6afbf4f256c9",
   "metadata": {},
   "outputs": [],
   "source": [
    "#column selection\n",
    "#drop cols\n",
    "final_df = final_df.drop(columns=['id','currency', 'isPublished','revieweeId','reviewerId','reviewOf','isVerified','oneWeekEmail','offlineUserName','qanvastResponse','revieweeResponse','Company','reviewer','projectImages','unlistedCompany','updatedAt','designerName'])"
   ]
  },
  {
   "cell_type": "code",
   "execution_count": 14,
   "id": "872f4559-3ee0-4520-bf47-f50d02e71396",
   "metadata": {},
   "outputs": [
    {
     "name": "stdout",
     "output_type": "stream",
     "text": [
      "<class 'pandas.core.frame.DataFrame'>\n",
      "Int64Index: 8416 entries, 0 to 8479\n",
      "Data columns (total 12 columns):\n",
      "content                    8416 non-null object\n",
      "projectCompletionDate      8416 non-null object\n",
      "projectCost                1362 non-null float64\n",
      "title                      8416 non-null object\n",
      "country                    8414 non-null object\n",
      "designRating               8416 non-null int64\n",
      "workmanshipRating          8416 non-null int64\n",
      "professionalismRating      8416 non-null int64\n",
      "projectManagementRating    8416 non-null int64\n",
      "createdAt                  8416 non-null object\n",
      "averageRating              8416 non-null float64\n",
      "company                    8416 non-null object\n",
      "dtypes: float64(2), int64(4), object(6)\n",
      "memory usage: 854.8+ KB\n"
     ]
    }
   ],
   "source": [
    "final_df.info()"
   ]
  },
  {
   "cell_type": "markdown",
   "id": "602c0803-f9c5-4c3a-baa4-1ffb9d312ed5",
   "metadata": {},
   "source": [
    "Above columns are retained for Exploratory Data Analysis."
   ]
  },
  {
   "cell_type": "markdown",
   "id": "48520779-f9a1-42e6-adfc-36e9feabeb30",
   "metadata": {},
   "source": [
    "## 3.0 Exploratory Data Analysis"
   ]
  },
  {
   "cell_type": "markdown",
   "id": "c75abde6-c008-42ce-8990-1d8c0f7956f2",
   "metadata": {},
   "source": [
    "### 3.1 Project Cost"
   ]
  },
  {
   "cell_type": "markdown",
   "id": "b6163775-3271-4016-a59f-8297744f92ef",
   "metadata": {},
   "source": [
    "Project Cost were note explicitly provided in most of the reviews and feedback. 7928 entries, close to 94% of the reviews does not have any cost / budget added. Hence, the following EDA applies only on the 6% dataset that we have."
   ]
  },
  {
   "cell_type": "code",
   "execution_count": 18,
   "id": "af5fe2b6-4be3-4340-bfb8-214954e4aaba",
   "metadata": {},
   "outputs": [],
   "source": [
    "#replace na with 0\n",
    "final_df.projectCost.fillna(0,inplace=True)"
   ]
  },
  {
   "cell_type": "code",
   "execution_count": 31,
   "id": "5052c5b1-6058-4caf-a8c5-52ebc5d01fde",
   "metadata": {},
   "outputs": [
    {
     "data": {
      "image/png": "[encoded data removed]",
      "text/plain": [
       "<Figure size 956.5x432 with 1 Axes>"
      ]
     },
     "metadata": {
      "needs_background": "light"
     },
     "output_type": "display_data"
    }
   ],
   "source": [
    "#plot data based on 6% available data \n",
    "temp_df = final_df[final_df.projectCost > 0][['projectCost']]\n",
    "\n",
    "sns.displot(data=temp_df,aspect=2,height=6,)\n",
    "plt.title('Project Cost Distribution (1362 records)')\n",
    "plt.show()"
   ]
  },
  {
   "cell_type": "code",
   "execution_count": 23,
   "id": "bd6a81a8-ffe6-4b89-a939-aee762dec23e",
   "metadata": {},
   "outputs": [
    {
     "data": {
      "text/html": [
       "<div>\n",
       "<style scoped>\n",
       "    .dataframe tbody tr th:only-of-type {\n",
       "        vertical-align: middle;\n",
       "    }\n",
       "\n",
       "    .dataframe tbody tr th {\n",
       "        vertical-align: top;\n",
       "    }\n",
       "\n",
       "    .dataframe thead th {\n",
       "        text-align: right;\n",
       "    }\n",
       "</style>\n",
       "<table border=\"1\" class=\"dataframe\">\n",
       "  <thead>\n",
       "    <tr style=\"text-align: right;\">\n",
       "      <th></th>\n",
       "      <th>projectCost</th>\n",
       "    </tr>\n",
       "  </thead>\n",
       "  <tbody>\n",
       "    <tr>\n",
       "      <th>count</th>\n",
       "      <td>4.880000e+02</td>\n",
       "    </tr>\n",
       "    <tr>\n",
       "      <th>mean</th>\n",
       "      <td>6.589498e+04</td>\n",
       "    </tr>\n",
       "    <tr>\n",
       "      <th>std</th>\n",
       "      <td>1.004825e+05</td>\n",
       "    </tr>\n",
       "    <tr>\n",
       "      <th>min</th>\n",
       "      <td>1.500000e+03</td>\n",
       "    </tr>\n",
       "    <tr>\n",
       "      <th>25%</th>\n",
       "      <td>3.000000e+04</td>\n",
       "    </tr>\n",
       "    <tr>\n",
       "      <th>50%</th>\n",
       "      <td>4.000000e+04</td>\n",
       "    </tr>\n",
       "    <tr>\n",
       "      <th>75%</th>\n",
       "      <td>6.500000e+04</td>\n",
       "    </tr>\n",
       "    <tr>\n",
       "      <th>max</th>\n",
       "      <td>1.300000e+06</td>\n",
       "    </tr>\n",
       "  </tbody>\n",
       "</table>\n",
       "</div>"
      ],
      "text/plain": [
       "        projectCost\n",
       "count  4.880000e+02\n",
       "mean   6.589498e+04\n",
       "std    1.004825e+05\n",
       "min    1.500000e+03\n",
       "25%    3.000000e+04\n",
       "50%    4.000000e+04\n",
       "75%    6.500000e+04\n",
       "max    1.300000e+06"
      ]
     },
     "execution_count": 23,
     "metadata": {},
     "output_type": "execute_result"
    }
   ],
   "source": [
    "temp_df.describe()"
   ]
  },
  {
   "cell_type": "markdown",
   "id": "191e0da2-fada-4e85-99d4-faeb9305611f",
   "metadata": {},
   "source": [
    "*Interpretation: Most cost are with mean at SGD 65,000. As the data does not contain information on the per sq feet involved in the renovation, hence the assumption does not stand for entire population.*"
   ]
  },
  {
   "cell_type": "markdown",
   "id": "9a4d6dcc-f526-4d92-8709-446f47b7ed3e",
   "metadata": {},
   "source": [
    "### 3.2 Country"
   ]
  },
  {
   "cell_type": "markdown",
   "id": "b3aeb095-8573-4a38-86a9-24529ae8751c",
   "metadata": {},
   "source": [
    "Country location was assumed to be in Singapore. However there are several location that display other countries i.e. Malaysia and Hong Kong. "
   ]
  },
  {
   "cell_type": "code",
   "execution_count": 32,
   "id": "a8c58e4c-60d0-48eb-8bf8-f80893e6550a",
   "metadata": {},
   "outputs": [],
   "source": [
    "#replace country with SG\n",
    "final_df.country = final_df.country.fillna('SG')\n",
    "final_df.reset_index(drop=True, inplace=True)"
   ]
  },
  {
   "cell_type": "code",
   "execution_count": 35,
   "id": "6aeae531-1511-4edb-a43b-d3055510dc0e",
   "metadata": {},
   "outputs": [
    {
     "data": {
      "text/plain": [
       "SG    0.951640\n",
       "MY    0.040875\n",
       "HK    0.007486\n",
       "Name: country, dtype: float64"
      ]
     },
     "execution_count": 35,
     "metadata": {},
     "output_type": "execute_result"
    }
   ],
   "source": [
    "final_df.country.value_counts(normalize=True)"
   ]
  },
  {
   "cell_type": "code",
   "execution_count": 36,
   "id": "112df73c-3147-408a-a44a-e1a785db952f",
   "metadata": {},
   "outputs": [
    {
     "data": {
      "text/html": [
       "<div>\n",
       "<style scoped>\n",
       "    .dataframe tbody tr th:only-of-type {\n",
       "        vertical-align: middle;\n",
       "    }\n",
       "\n",
       "    .dataframe tbody tr th {\n",
       "        vertical-align: top;\n",
       "    }\n",
       "\n",
       "    .dataframe thead th {\n",
       "        text-align: right;\n",
       "    }\n",
       "</style>\n",
       "<table border=\"1\" class=\"dataframe\">\n",
       "  <thead>\n",
       "    <tr style=\"text-align: right;\">\n",
       "      <th></th>\n",
       "      <th>content</th>\n",
       "      <th>projectCompletionDate</th>\n",
       "      <th>projectCost</th>\n",
       "      <th>title</th>\n",
       "      <th>country</th>\n",
       "      <th>designRating</th>\n",
       "      <th>workmanshipRating</th>\n",
       "      <th>professionalismRating</th>\n",
       "      <th>projectManagementRating</th>\n",
       "      <th>createdAt</th>\n",
       "      <th>averageRating</th>\n",
       "      <th>company</th>\n",
       "    </tr>\n",
       "  </thead>\n",
       "  <tbody>\n",
       "    <tr>\n",
       "      <th>112</th>\n",
       "      <td>Thank you Edward &amp; Josephine on my home renova...</td>\n",
       "      <td>2021-04-30T16:00:00.000Z</td>\n",
       "      <td>0.0</td>\n",
       "      <td>Professional Advise</td>\n",
       "      <td>MY</td>\n",
       "      <td>5</td>\n",
       "      <td>5</td>\n",
       "      <td>5</td>\n",
       "      <td>5</td>\n",
       "      <td>2021-05-04T07:58:39.833Z</td>\n",
       "      <td>5.0</td>\n",
       "      <td>Interior Choreographer Design (INC Design)</td>\n",
       "    </tr>\n",
       "    <tr>\n",
       "      <th>219</th>\n",
       "      <td>We engaged Dohson for minor make over for our ...</td>\n",
       "      <td>2021-03-31T16:00:00.000Z</td>\n",
       "      <td>0.0</td>\n",
       "      <td>Amazing work</td>\n",
       "      <td>MY</td>\n",
       "      <td>5</td>\n",
       "      <td>5</td>\n",
       "      <td>5</td>\n",
       "      <td>5</td>\n",
       "      <td>2021-04-21T02:55:49.372Z</td>\n",
       "      <td>5.0</td>\n",
       "      <td>Dohson Sdn. Bhd.</td>\n",
       "    </tr>\n",
       "    <tr>\n",
       "      <th>225</th>\n",
       "      <td>Blaine robert has an excellent team that cater...</td>\n",
       "      <td>2021-03-31T16:00:00.000Z</td>\n",
       "      <td>0.0</td>\n",
       "      <td>Excellent design team</td>\n",
       "      <td>MY</td>\n",
       "      <td>5</td>\n",
       "      <td>5</td>\n",
       "      <td>5</td>\n",
       "      <td>5</td>\n",
       "      <td>2021-04-19T04:48:35.868Z</td>\n",
       "      <td>5.0</td>\n",
       "      <td>Blaine Robert Design Sdn. Bhd.</td>\n",
       "    </tr>\n",
       "    <tr>\n",
       "      <th>226</th>\n",
       "      <td>Very satisfied with the renovation result. The...</td>\n",
       "      <td>2021-03-31T16:00:00.000Z</td>\n",
       "      <td>0.0</td>\n",
       "      <td>Master bedroom reno</td>\n",
       "      <td>MY</td>\n",
       "      <td>5</td>\n",
       "      <td>5</td>\n",
       "      <td>5</td>\n",
       "      <td>3</td>\n",
       "      <td>2021-04-18T08:31:14.040Z</td>\n",
       "      <td>4.5</td>\n",
       "      <td>Reqa Lab</td>\n",
       "    </tr>\n",
       "    <tr>\n",
       "      <th>240</th>\n",
       "      <td>My wife and I don't usually leave reviews but ...</td>\n",
       "      <td>2021-03-31T16:00:00.000Z</td>\n",
       "      <td>0.0</td>\n",
       "      <td>Extremely Responsive and Responsible</td>\n",
       "      <td>MY</td>\n",
       "      <td>5</td>\n",
       "      <td>5</td>\n",
       "      <td>5</td>\n",
       "      <td>5</td>\n",
       "      <td>2021-04-09T14:19:11.959Z</td>\n",
       "      <td>5.0</td>\n",
       "      <td>Catappa Design Studio</td>\n",
       "    </tr>\n",
       "  </tbody>\n",
       "</table>\n",
       "</div>"
      ],
      "text/plain": [
       "                                               content  \\\n",
       "112  Thank you Edward & Josephine on my home renova...   \n",
       "219  We engaged Dohson for minor make over for our ...   \n",
       "225  Blaine robert has an excellent team that cater...   \n",
       "226  Very satisfied with the renovation result. The...   \n",
       "240  My wife and I don't usually leave reviews but ...   \n",
       "\n",
       "        projectCompletionDate  projectCost  \\\n",
       "112  2021-04-30T16:00:00.000Z          0.0   \n",
       "219  2021-03-31T16:00:00.000Z          0.0   \n",
       "225  2021-03-31T16:00:00.000Z          0.0   \n",
       "226  2021-03-31T16:00:00.000Z          0.0   \n",
       "240  2021-03-31T16:00:00.000Z          0.0   \n",
       "\n",
       "                                    title country  designRating  \\\n",
       "112                   Professional Advise      MY             5   \n",
       "219                          Amazing work      MY             5   \n",
       "225                 Excellent design team      MY             5   \n",
       "226                   Master bedroom reno      MY             5   \n",
       "240  Extremely Responsive and Responsible      MY             5   \n",
       "\n",
       "     workmanshipRating  professionalismRating  projectManagementRating  \\\n",
       "112                  5                      5                        5   \n",
       "219                  5                      5                        5   \n",
       "225                  5                      5                        5   \n",
       "226                  5                      5                        3   \n",
       "240                  5                      5                        5   \n",
       "\n",
       "                    createdAt  averageRating  \\\n",
       "112  2021-05-04T07:58:39.833Z            5.0   \n",
       "219  2021-04-21T02:55:49.372Z            5.0   \n",
       "225  2021-04-19T04:48:35.868Z            5.0   \n",
       "226  2021-04-18T08:31:14.040Z            4.5   \n",
       "240  2021-04-09T14:19:11.959Z            5.0   \n",
       "\n",
       "                                        company  \n",
       "112  Interior Choreographer Design (INC Design)  \n",
       "219                            Dohson Sdn. Bhd.  \n",
       "225              Blaine Robert Design Sdn. Bhd.  \n",
       "226                                    Reqa Lab  \n",
       "240                       Catappa Design Studio  "
      ]
     },
     "execution_count": 36,
     "metadata": {},
     "output_type": "execute_result"
    }
   ],
   "source": [
    "final_df[final_df.country != 'SG'].head()"
   ]
  },
  {
   "cell_type": "markdown",
   "id": "95da0c02-7485-49a8-b61e-d9124edc1648",
   "metadata": {},
   "source": [
    "### 3.3 Company"
   ]
  },
  {
   "cell_type": "code",
   "execution_count": 37,
   "id": "322d0520-7589-4615-9aaf-1a0351c4a3ee",
   "metadata": {},
   "outputs": [],
   "source": [
    "#remove chinese character\n",
    "test = final_df.company.str.replace(r'[^\\s\\x00-\\x7F ]+', '')\n",
    "#remove white space\n",
    "final_df.company = test.str.strip()"
   ]
  },
  {
   "cell_type": "code",
   "execution_count": 38,
   "id": "83a32bba-0e4d-4402-a085-394c2abfbf1b",
   "metadata": {},
   "outputs": [],
   "source": [
    "#sum reviews for each company \n",
    "total_reviews = pd.Series(final_df['company'].value_counts()).to_dict()\n",
    "#input as column of total reviews\n",
    "final_df['total_reviews'] = final_df.company.apply(total_reviews.get)"
   ]
  },
  {
   "cell_type": "code",
   "execution_count": 43,
   "id": "461c5f5e-ec27-4fb1-aa6b-1b6b3a0447bf",
   "metadata": {},
   "outputs": [
    {
     "data": {
      "text/html": [
       "<div>\n",
       "<style scoped>\n",
       "    .dataframe tbody tr th:only-of-type {\n",
       "        vertical-align: middle;\n",
       "    }\n",
       "\n",
       "    .dataframe tbody tr th {\n",
       "        vertical-align: top;\n",
       "    }\n",
       "\n",
       "    .dataframe thead th {\n",
       "        text-align: right;\n",
       "    }\n",
       "</style>\n",
       "<table border=\"1\" class=\"dataframe\">\n",
       "  <thead>\n",
       "    <tr style=\"text-align: right;\">\n",
       "      <th></th>\n",
       "      <th>content</th>\n",
       "      <th>projectCompletionDate</th>\n",
       "      <th>projectCost</th>\n",
       "      <th>title</th>\n",
       "      <th>country</th>\n",
       "      <th>designRating</th>\n",
       "      <th>workmanshipRating</th>\n",
       "      <th>professionalismRating</th>\n",
       "      <th>projectManagementRating</th>\n",
       "      <th>createdAt</th>\n",
       "      <th>averageRating</th>\n",
       "      <th>company</th>\n",
       "      <th>total_reviews</th>\n",
       "    </tr>\n",
       "  </thead>\n",
       "  <tbody>\n",
       "    <tr>\n",
       "      <th>0</th>\n",
       "      <td>I'm thankful to Thomas for providing a compreh...</td>\n",
       "      <td>2021-07-31T16:00:00.000Z</td>\n",
       "      <td>0.0</td>\n",
       "      <td>Review of Thomas from Todz'Terior</td>\n",
       "      <td>SG</td>\n",
       "      <td>5</td>\n",
       "      <td>5</td>\n",
       "      <td>5</td>\n",
       "      <td>5</td>\n",
       "      <td>2021-05-31T13:44:41.680Z</td>\n",
       "      <td>5.0</td>\n",
       "      <td>TodzTerior</td>\n",
       "      <td>15</td>\n",
       "    </tr>\n",
       "  </tbody>\n",
       "</table>\n",
       "</div>"
      ],
      "text/plain": [
       "                                             content  \\\n",
       "0  I'm thankful to Thomas for providing a compreh...   \n",
       "\n",
       "      projectCompletionDate  projectCost                              title  \\\n",
       "0  2021-07-31T16:00:00.000Z          0.0  Review of Thomas from Todz'Terior   \n",
       "\n",
       "  country  designRating  workmanshipRating  professionalismRating  \\\n",
       "0      SG             5                  5                      5   \n",
       "\n",
       "   projectManagementRating                 createdAt  averageRating  \\\n",
       "0                        5  2021-05-31T13:44:41.680Z            5.0   \n",
       "\n",
       "      company  total_reviews  \n",
       "0  TodzTerior             15  "
      ]
     },
     "execution_count": 43,
     "metadata": {},
     "output_type": "execute_result"
    }
   ],
   "source": [
    "final_df.head(1)"
   ]
  },
  {
   "cell_type": "markdown",
   "id": "898f7dac-064d-4a7c-b8ee-1d7085424415",
   "metadata": {},
   "source": [
    "### 3.4 Completion Date and Posted date"
   ]
  },
  {
   "cell_type": "markdown",
   "id": "0f4adf91-616b-4523-8384-32396bbb510b",
   "metadata": {},
   "source": [
    "The completiond data would indicate the project distribution and urgency. We can overlap this with event of BTO (Built-To-Order) completion and the demand on the renovation services throughout the seasons."
   ]
  },
  {
   "cell_type": "code",
   "execution_count": 44,
   "id": "c7282eee-406b-45bc-a6a3-292dbe2a0c0a",
   "metadata": {},
   "outputs": [],
   "source": [
    "#func to convert values to datetime format\n",
    "def convert_dt(df, col):\n",
    "    df[col] = pd.to_datetime(df[col])"
   ]
  },
  {
   "cell_type": "code",
   "execution_count": 45,
   "id": "659bddd5-54f7-41f8-949d-615a687bcbe9",
   "metadata": {},
   "outputs": [],
   "source": [
    "#convert completion time, created review and updated review time\n",
    "convert_dt(final_df, 'projectCompletionDate')\n",
    "convert_dt(final_df, 'createdAt')"
   ]
  },
  {
   "cell_type": "code",
   "execution_count": 69,
   "id": "c08c78ea-9cbb-42ba-a6db-a3e06f8881f3",
   "metadata": {},
   "outputs": [
    {
     "data": {
      "text/plain": [
       "(datetime.date(2014, 10, 13), datetime.date(2021, 6, 11))"
      ]
     },
     "execution_count": 69,
     "metadata": {},
     "output_type": "execute_result"
    }
   ],
   "source": [
    "final_df.createdAt.dt.date.min(), final_df.createdAt.dt.date.max()"
   ]
  },
  {
   "cell_type": "code",
   "execution_count": 70,
   "id": "969d5d1b-3bf0-4394-a576-d38edc69625a",
   "metadata": {},
   "outputs": [
    {
     "data": {
      "text/plain": [
       "(datetime.date(2015, 9, 30), datetime.date(2021, 7, 31))"
      ]
     },
     "execution_count": 70,
     "metadata": {},
     "output_type": "execute_result"
    }
   ],
   "source": [
    "final_df.projectCompletionDate.dt.date.min(), final_df.projectCompletionDate.dt.date.max()"
   ]
  },
  {
   "cell_type": "markdown",
   "id": "18d525f8-094a-4954-b7ce-aa5b23f7daaa",
   "metadata": {},
   "source": [
    "Some reviews are posted as mid-reno review."
   ]
  },
  {
   "cell_type": "code",
   "execution_count": 68,
   "id": "f2842d4f-68a2-48cd-aa24-de1ede142eed",
   "metadata": {},
   "outputs": [
    {
     "data": {
      "text/plain": [
       "array(['Vanessa was professional and showed creativity through her layout ideas and designs before we finalised with most suitable one for us. \\r\\n\\r\\nDuring on going renovation works, she was responsive to our queries. Any rectification works we also followed up quite quickly.\\r\\n\\r\\nThis was an enjoyable and fuss free renovation experience I had. Am happy to finally have my dream home!',\n",
       "       'Very Happy with our renovation experience and result. Would definitely recommend WeiLu and Ean for their patience throughout our renovation journey. Giving us ideals and solving unforeseen problems upon renovation. Big thumbs up for the good quality and workmanship from Happe Design Atelier! Would definitely recommend to anyone who are looking for quality work and interesting design  to approach HDA designers as their ID.. Fun group of people:))',\n",
       "       \"We had an extremely pleasant and enjoyable experience working with Happe's Kelvyn, David and Edwin. They were able to propose functional and beautiful designs for our first family home. Each of them had different and complementing skill sets which saw our renovation from start to end with minimal supervision from us. When we had issues with an external flooring contractor, Kelvyn stepped in and went above and beyond his responsibilities to help us out. David was creative, patient and open when proposing designs for our home even when we had so many different ideas and could not decide on options. Edwin who was our project manager made sure things ran smoothly on-site and promptly rectified any defects or issues brought up. Happe was extremely responsive and responsible in their communication and it was a very pleasant first renovation experience with them. Highly recommended!\",\n",
       "       'If you want a worry-free renovation this is the place! The briefing stage from the very beginning, subsequently design, planning, works execution, none of these has given me  any troubles. Furthemore, the designer has a very good sense of design, colour matching and he has never been late for our meeting. Also, he has constantly kept me posted with the work progress. A designer worth to trust for. 1000% recommended!',\n",
       "       'Whole renovation process very carefully and satisfied.\\r\\nHave good taste and help me a lot for choosing color pallets and design ideas.\\r\\nVery efficient works during these months and excellent service.\\r\\nPrice is fair enough.'],\n",
       "      dtype=object)"
      ]
     },
     "execution_count": 68,
     "metadata": {},
     "output_type": "execute_result"
    }
   ],
   "source": [
    "final_df[final_df.createdAt < final_df.projectCompletionDate]['content'].values[10:15]"
   ]
  },
  {
   "cell_type": "code",
   "execution_count": 50,
   "id": "9fab3ffc-f121-4af8-b646-e12dfb0da7ea",
   "metadata": {},
   "outputs": [],
   "source": [
    "# reset index after remove na\n",
    "final_df.reset_index(drop=True, inplace=True)"
   ]
  },
  {
   "cell_type": "code",
   "execution_count": 51,
   "id": "dbc4aafb-1117-4942-bbeb-7fd749b429ef",
   "metadata": {},
   "outputs": [
    {
     "name": "stdout",
     "output_type": "stream",
     "text": [
      "<class 'pandas.core.frame.DataFrame'>\n",
      "RangeIndex: 8416 entries, 0 to 8415\n",
      "Data columns (total 13 columns):\n",
      "content                    8416 non-null object\n",
      "projectCompletionDate      8416 non-null datetime64[ns, UTC]\n",
      "projectCost                8416 non-null float64\n",
      "title                      8416 non-null object\n",
      "country                    8416 non-null object\n",
      "designRating               8416 non-null int64\n",
      "workmanshipRating          8416 non-null int64\n",
      "professionalismRating      8416 non-null int64\n",
      "projectManagementRating    8416 non-null int64\n",
      "createdAt                  8416 non-null datetime64[ns, UTC]\n",
      "averageRating              8416 non-null float64\n",
      "company                    8416 non-null object\n",
      "total_reviews              8416 non-null int64\n",
      "dtypes: datetime64[ns, UTC](2), float64(2), int64(5), object(4)\n",
      "memory usage: 854.9+ KB\n"
     ]
    }
   ],
   "source": [
    "final_df.info()"
   ]
  },
  {
   "cell_type": "code",
   "execution_count": 72,
   "id": "f8fec717-a323-43f0-8e51-5d6ce57fba6a",
   "metadata": {},
   "outputs": [
    {
     "data": {
      "image/png": "[encoded data removed]",
      "text/plain": [
       "<Figure size 1440x576 with 1 Axes>"
      ]
     },
     "metadata": {
      "needs_background": "light"
     },
     "output_type": "display_data"
    }
   ],
   "source": [
    "#project completion count\n",
    "plt.figure(figsize=(20,8))\n",
    "temp_df = final_df.resample('Y', on='projectCompletionDate').count()[['content']].reset_index()\n",
    "sns.barplot(data=temp_df, x=temp_df.projectCompletionDate.dt.year, y= temp_df.content, color='tab:blue')\n",
    "plt.title('Project Completion in Years')\n",
    "plt.show()"
   ]
  },
  {
   "cell_type": "markdown",
   "id": "951a8ae7-c508-40e6-b452-f8bdcbc94780",
   "metadata": {},
   "source": [
    "*Interpretation: The reviews span from 2015 up till date (Jun 2021). The growing use of Qanvast as a medium is more prominent and peaks in 2019. The dip is likely due to the Covid-19 restriction that has slowed down vendors engagement in renovation activity.*"
   ]
  },
  {
   "cell_type": "code",
   "execution_count": 33,
   "id": "30085a7b-1efb-47b7-8163-b770ac693824",
   "metadata": {},
   "outputs": [
    {
     "data": {
      "image/png": "[encoded data removed]",
      "text/plain": [
       "<Figure size 1440x576 with 1 Axes>"
      ]
     },
     "metadata": {
      "needs_background": "light"
     },
     "output_type": "display_data"
    }
   ],
   "source": [
    "#completion by months\n",
    "plt.figure(figsize=(20,8))\n",
    "temp_df = final_df.resample('M', on='projectCompletionDate').count()[['content']].reset_index()\n",
    "sns.boxplot(data=temp_df, x=temp_df.projectCompletionDate.dt.month, y= temp_df.content, color='tab:blue')\n",
    "plt.title('Project Completion in Months')\n",
    "plt.show()"
   ]
  },
  {
   "cell_type": "markdown",
   "id": "7c010907-c1d6-4e01-a4b7-4b1c8c36320f",
   "metadata": {},
   "source": [
    "*Interpretation: Regardless of the years, the renovation are active throughout the years and especially active for completion by end of the year. The possible reasons on the completion could be due to year end financial closing for the vendors or the users preference to be able to move in by the end of the year before the new year.*"
   ]
  },
  {
   "cell_type": "code",
   "execution_count": 34,
   "id": "7a5bd479-193e-4d32-9d17-75183c891133",
   "metadata": {},
   "outputs": [
    {
     "data": {
      "image/png": "[encoded data removed]",
      "text/plain": [
       "<Figure size 1440x576 with 2 Axes>"
      ]
     },
     "metadata": {
      "needs_background": "light"
     },
     "output_type": "display_data"
    }
   ],
   "source": [
    "plt.figure(figsize=(20,8))\n",
    "cmap = sns.diverging_palette(225,15,as_cmap=True)\n",
    "temp_df = final_df.groupby([(final_df.projectCompletionDate.dt.year),(final_df.projectCompletionDate.dt.month)]).count()[['content']].unstack()\n",
    "sns.heatmap(data=temp_df, annot=True, cmap=cmap, linewidths=.5, xticklabels=['Jan','Feb','Mar','Apr','May','Jun','Jul','Aug','Sep','Oct','Nov','Dec'], fmt='2g')\n",
    "plt.title('Project Completion')\n",
    "plt.ylabel('Project Completion Year')\n",
    "plt.xlabel('Project Completion Months')\n",
    "plt.show()"
   ]
  },
  {
   "cell_type": "markdown",
   "id": "19614182-9355-4621-a24c-cce8ce1b092c",
   "metadata": {},
   "source": [
    "*Interpretation: There is indeed a preference in project completion by end of the year. There is also a huge spike in 2020 Nov. I reckon this is driven by back-logs from the Mar 2020 onwards. This is likely as the Circuit Breaker restriction kicked in on Apr 2020, putting a halt in a lot of home renovations for a month. The works were on a slow comeback and as the tight covid restrictions are lifted closer to the end of the year, the hustle to completion are prominent in 2020. The same scenario has applied again in 2021, where restriction is imposed in May 2021.*"
   ]
  },
  {
   "cell_type": "markdown",
   "id": "c42f1925-348b-4ab0-ab03-2acbcaae8331",
   "metadata": {},
   "source": [
    "### 3.5 Reviews and Ratings"
   ]
  },
  {
   "cell_type": "code",
   "execution_count": 77,
   "id": "6762a3f1-073f-460a-9212-34a16adea06c",
   "metadata": {},
   "outputs": [
    {
     "data": {
      "text/html": [
       "<div>\n",
       "<style scoped>\n",
       "    .dataframe tbody tr th:only-of-type {\n",
       "        vertical-align: middle;\n",
       "    }\n",
       "\n",
       "    .dataframe tbody tr th {\n",
       "        vertical-align: top;\n",
       "    }\n",
       "\n",
       "    .dataframe thead th {\n",
       "        text-align: right;\n",
       "    }\n",
       "</style>\n",
       "<table border=\"1\" class=\"dataframe\">\n",
       "  <thead>\n",
       "    <tr style=\"text-align: right;\">\n",
       "      <th></th>\n",
       "      <th>content</th>\n",
       "      <th>projectCompletionDate</th>\n",
       "      <th>projectCost</th>\n",
       "      <th>title</th>\n",
       "      <th>country</th>\n",
       "      <th>designRating</th>\n",
       "      <th>workmanshipRating</th>\n",
       "      <th>professionalismRating</th>\n",
       "      <th>projectManagementRating</th>\n",
       "      <th>createdAt</th>\n",
       "      <th>averageRating</th>\n",
       "      <th>company</th>\n",
       "      <th>total_reviews</th>\n",
       "    </tr>\n",
       "  </thead>\n",
       "  <tbody>\n",
       "    <tr>\n",
       "      <th>0</th>\n",
       "      <td>I'm thankful to Thomas for providing a compreh...</td>\n",
       "      <td>2021-07-31 16:00:00+00:00</td>\n",
       "      <td>0.0</td>\n",
       "      <td>Review of Thomas from Todz'Terior</td>\n",
       "      <td>SG</td>\n",
       "      <td>5</td>\n",
       "      <td>5</td>\n",
       "      <td>5</td>\n",
       "      <td>5</td>\n",
       "      <td>2021-05-31 13:44:41.680000+00:00</td>\n",
       "      <td>5.0</td>\n",
       "      <td>TodzTerior</td>\n",
       "      <td>15</td>\n",
       "    </tr>\n",
       "  </tbody>\n",
       "</table>\n",
       "</div>"
      ],
      "text/plain": [
       "                                             content  \\\n",
       "0  I'm thankful to Thomas for providing a compreh...   \n",
       "\n",
       "      projectCompletionDate  projectCost                              title  \\\n",
       "0 2021-07-31 16:00:00+00:00          0.0  Review of Thomas from Todz'Terior   \n",
       "\n",
       "  country  designRating  workmanshipRating  professionalismRating  \\\n",
       "0      SG             5                  5                      5   \n",
       "\n",
       "   projectManagementRating                        createdAt  averageRating  \\\n",
       "0                        5 2021-05-31 13:44:41.680000+00:00            5.0   \n",
       "\n",
       "      company  total_reviews  \n",
       "0  TodzTerior             15  "
      ]
     },
     "execution_count": 77,
     "metadata": {},
     "output_type": "execute_result"
    }
   ],
   "source": [
    "final_df.head(1)"
   ]
  },
  {
   "cell_type": "code",
   "execution_count": 79,
   "id": "b739da73-4dd5-41fb-8277-7f9a120b837f",
   "metadata": {},
   "outputs": [],
   "source": [
    "#combined title and comment text\n",
    "final_df['reviews'] = final_df.title + ' ' + final_df.content\n",
    "\n",
    "#drop title and content column\n",
    "final_df.drop(columns=['title','content'], inplace=True)"
   ]
  },
  {
   "cell_type": "code",
   "execution_count": 82,
   "id": "ebcf589f-6192-4f0e-aeda-7813f5a2ade8",
   "metadata": {},
   "outputs": [
    {
     "data": {
      "text/plain": [
       "0    Review of Thomas from Todz'Terior I'm thankful...\n",
       "1    Positive ID experience from beginning to end o...\n",
       "2    Great Job! It was a fuss free and enjoyable re...\n",
       "3    Renovation of 4 room BTO I highly recommend In...\n",
       "4    Went beyond their way to ensure everything is ...\n",
       "Name: reviews, dtype: object"
      ]
     },
     "execution_count": 82,
     "metadata": {},
     "output_type": "execute_result"
    }
   ],
   "source": [
    "final_df.reviews.head()"
   ]
  },
  {
   "cell_type": "code",
   "execution_count": 88,
   "id": "44d8ed20-04d8-4da6-a6c4-2fa65b5279f6",
   "metadata": {},
   "outputs": [],
   "source": [
    "#identity word count length\n",
    "final_df['word_count'] = [len(final_df.reviews[i].split()) for i in range(final_df.shape[0])]"
   ]
  },
  {
   "cell_type": "code",
   "execution_count": 94,
   "id": "3f157612-9264-40f5-a739-f1058ad63e1e",
   "metadata": {},
   "outputs": [
    {
     "data": {
      "image/png": "[encoded data removed]",
      "text/plain": [
       "<Figure size 1440x576 with 1 Axes>"
      ]
     },
     "metadata": {
      "needs_background": "light"
     },
     "output_type": "display_data"
    }
   ],
   "source": [
    "#average rating vs word count\n",
    "plt.figure(figsize=(20,8))\n",
    "sns.lineplot(data=final_df, x='averageRating', y='word_count')\n",
    "plt.title('Word Count vs Average Rating')\n",
    "plt.show()"
   ]
  },
  {
   "cell_type": "markdown",
   "id": "733e7b12-baf0-4786-a32e-ee0a3f58065f",
   "metadata": {},
   "source": [
    "*Interpretation: Naturally as the services receive by users is not satisfactory, the comments and feedback is long with detail on how or why the vendor is not within acceptance. This is also opportune to review on the comments and look for improvement and reason on the disatisfaction and take necessary action.*"
   ]
  },
  {
   "cell_type": "code",
   "execution_count": 137,
   "id": "649a39ab-fcb4-43ba-8cdf-27dceb982992",
   "metadata": {},
   "outputs": [
    {
     "data": {
      "image/png": "[encoded data removed]",
      "text/plain": [
       "<Figure size 1440x576 with 1 Axes>"
      ]
     },
     "metadata": {
      "needs_background": "light"
     },
     "output_type": "display_data"
    }
   ],
   "source": [
    "#isloate rating columns\n",
    "temp_df = final_df[['designRating','workmanshipRating','professionalismRating','projectManagementRating']]\n",
    "temp_df = temp_df.mean(axis=0).reset_index().rename(columns={'index':'ratingtype', 0:'averating'})\n",
    "plt.figure(figsize=(20, 8))\n",
    "graph= sns.barplot(data=temp_df, x='ratingtype', y ='averating')\n",
    "plt.ylim(4.5,5)\n",
    "plt.title('Average Rating by Category')\n",
    "plt.ylabel('Mean Average Rating Score')\n",
    "plt.xlabel('Ratings Category')\n",
    "\n",
    "#annotation\n",
    "for p in graph.patches:\n",
    "    graph.annotate('{:.2f}'.format(p.get_height()), (p.get_x()+0.40, p.get_height()+0.005),\n",
    "                ha='center', va='bottom',\n",
    "               color= 'black')\n",
    "plt.show()"
   ]
  },
  {
   "cell_type": "markdown",
   "id": "eab7ad68-0917-4e26-a3c7-12213034a9d9",
   "metadata": {},
   "source": [
    "*Interpretation: Workmanship has the lowest average score compared to other category whereas Professionalism scores the highest in average on all reviews, with Project Management follow closely next.*"
   ]
  },
  {
   "cell_type": "markdown",
   "id": "03436ced-ae15-4d8e-b214-07e44fab1f7a",
   "metadata": {},
   "source": [
    "More exploratory on the text reviews using natural languare processing will be conducted in the next notebook."
   ]
  },
  {
   "cell_type": "markdown",
   "id": "f980e5d1-772a-4f12-aeda-afe20bb7558d",
   "metadata": {},
   "source": [
    "## 4.0 Cleaned Data Export"
   ]
  },
  {
   "cell_type": "code",
   "execution_count": 138,
   "id": "1db9cc6a-1506-45bc-b512-700cc81de914",
   "metadata": {},
   "outputs": [],
   "source": [
    "final_df.to_csv('./data/cleaned_qvst.csv',index=False)"
   ]
  }
 ],
 "metadata": {
  "kernelspec": {
   "display_name": "Python 3",
   "language": "python",
   "name": "python3"
  },
  "language_info": {
   "codemirror_mode": {
    "name": "ipython",
    "version": 3
   },
   "file_extension": ".py",
   "mimetype": "text/x-python",
   "name": "python",
   "nbconvert_exporter": "python",
   "pygments_lexer": "ipython3",
   "version": "3.8.5"
  }
 },
 "nbformat": 4,
 "nbformat_minor": 5
}
